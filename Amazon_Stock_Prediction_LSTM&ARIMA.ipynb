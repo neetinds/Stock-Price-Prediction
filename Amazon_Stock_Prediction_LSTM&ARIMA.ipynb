{
  "nbformat": 4,
  "nbformat_minor": 0,
  "metadata": {
    "colab": {
      "name": "Amazon Stock Prediction LSTM.ipynb",
      "provenance": [],
      "collapsed_sections": [],
      "include_colab_link": true
    },
    "kernelspec": {
      "display_name": "Python 3",
      "language": "python",
      "name": "python3"
    },
    "language_info": {
      "codemirror_mode": {
        "name": "ipython",
        "version": 3
      },
      "file_extension": ".py",
      "mimetype": "text/x-python",
      "name": "python",
      "nbconvert_exporter": "python",
      "pygments_lexer": "ipython3",
      "version": "3.6.3"
    }
  },
  "cells": [
    {
      "cell_type": "markdown",
      "metadata": {
        "id": "view-in-github",
        "colab_type": "text"
      },
      "source": [
        "<a href=\"https://colab.research.google.com/github/neetinds/Stock-Price-Prediction/blob/main/Amazon_Stock_Prediction_LSTM%26ARIMA.ipynb\" target=\"_parent\"><img src=\"https://colab.research.google.com/assets/colab-badge.svg\" alt=\"Open In Colab\"/></a>"
      ]
    },
    {
      "cell_type": "markdown",
      "metadata": {
        "id": "W6DPEQYdI6Wp"
      },
      "source": [
        "# Stock Price Predicting with LSTM\n",
        "                                                                        \n",
        "\n",
        "Neural Networks have been demonstrated to be very powerful in solving the real-world problems like imaging and natural language processing. Interested in stock price movements, I am therefore motivated and curious about employing nerual nets to approach financial time series problems of its kind.\n",
        "\n",
        "Unlike common regression predictions, time series problems are more difficult due to sequence dependence within the input data variables. Among various neural nets, Long Short-Term Memory (***LSTM***), a type of recurrent neural network, has been proven to take care of complex time series predictions. So I implement LSTM to Amazon's stock prices (***AMZN***) "
      ]
    },
    {
      "cell_type": "code",
      "metadata": {
        "id": "6V9WVyoWI6Wr",
        "scrolled": true
      },
      "source": [
        "import numpy as np\n",
        "import pandas as pd\n",
        "import matplotlib.pyplot as plt\n",
        "from datetime import datetime\n",
        "from sklearn import preprocessing\n",
        "import keras\n",
        "from keras.models import Sequential\n",
        "from keras.layers.core import Dense, Dropout, Activation\n",
        "from keras.layers.recurrent import LSTM\n",
        "from keras.models import load_model\n",
        "from keras import backend as K\n",
        "import math, time\n",
        "import itertools\n",
        "from math import sqrt\n",
        "from sklearn.preprocessing import MinMaxScaler\n",
        "from sklearn.metrics import mean_squared_error\n",
        "from sklearn.metrics import mean_absolute_error\n",
        "from sklearn.model_selection import train_test_split\n",
        "from keras.callbacks import EarlyStopping"
      ],
      "execution_count": 5,
      "outputs": []
    },
    {
      "cell_type": "code",
      "metadata": {
        "colab": {
          "base_uri": "https://localhost:8080/"
        },
        "collapsed": true,
        "id": "VpmKvwEfI6Ws",
        "outputId": "6149797b-eecb-43e6-9d14-1c36f318a551"
      },
      "source": [
        "from google.colab import drive\n",
        "drive.mount('/content/gdrive')"
      ],
      "execution_count": 6,
      "outputs": [
        {
          "output_type": "stream",
          "text": [
            "Mounted at /content/gdrive\n"
          ],
          "name": "stdout"
        }
      ]
    },
    {
      "cell_type": "markdown",
      "metadata": {
        "id": "UwUJD-hQI6Wt"
      },
      "source": [
        "## 1. Load Data\n",
        "\n",
        "Get up to five-year daily historical stock prices & volumes data from https://finance.yahoo.com/quote/AMZN/history?p=AMZN. \n",
        "\n",
        "Datasets consist of following columns:\n",
        "- **date** Time stamp of when data was collected, being used as index column;\n",
        "- **volume** The number of shares traded in AMZN during a given trading day;\n",
        "- **open** The price at AMZN upon the opening of an exchange on a given trading day;\n",
        "- **high** The highest price at which AMZN traded during the course of the day;\n",
        "- **low** The lowest price at which AMZN traded during the course of the day;\n",
        "- **close** The final price at which AMZN traded during the course of the day; it is also selected as our target data.\n",
        "\n",
        "Plus, add a new feature based on the columns above:\n",
        "- **pct** The percentage of change of close price compared to previous trading day."
      ]
    },
    {
      "cell_type": "code",
      "metadata": {
        "colab": {
          "base_uri": "https://localhost:8080/",
          "height": 269
        },
        "id": "nbvqqhGuI6Wt",
        "scrolled": true,
        "outputId": "7f4c3cab-e497-41b4-94c8-4fd37a1483f0"
      },
      "source": [
        "rawdata = pd.read_csv('/content/gdrive/MyDrive/Stock-Price-Prediction-main/Time Series - Stock Price Prediction - AMZN/AMZN.csv')\n",
        "## Reformat date\n",
        "rawdata['Date'] = pd.to_datetime(rawdata['Date'] ,errors ='coerce')\n",
        "rawdata['Date'] = pd.to_datetime(rawdata['Date'], format='%Y-%m-%d')\n",
        "## Sort date by date\n",
        "rawdata.sort_values(by = 'Date', ascending=True, inplace=True)\n",
        "## Percentage Change\n",
        "rawdata['Pct'] = rawdata['Close'].pct_change()\n",
        "rawdata.dropna(inplace=True)\n",
        "## Describe data\n",
        "rawdata = rawdata[['Date', 'Volume', 'Open', 'High', 'Low', 'Pct', 'Close']]\n",
        "rawdata.set_index('Date', inplace=True)\n",
        "print('Historical stock price data for', rawdata.shape[0], 'days')\n",
        "print('from', rawdata.index[0], 'to', rawdata.index[rawdata.shape[0]-1])\n",
        "rawdata.head()"
      ],
      "execution_count": 7,
      "outputs": [
        {
          "output_type": "stream",
          "text": [
            "Historical stock price data for 2517 days\n",
            "from 2010-12-07 00:00:00 to 2020-12-04 00:00:00\n"
          ],
          "name": "stdout"
        },
        {
          "output_type": "execute_result",
          "data": {
            "text/html": [
              "<div>\n",
              "<style scoped>\n",
              "    .dataframe tbody tr th:only-of-type {\n",
              "        vertical-align: middle;\n",
              "    }\n",
              "\n",
              "    .dataframe tbody tr th {\n",
              "        vertical-align: top;\n",
              "    }\n",
              "\n",
              "    .dataframe thead th {\n",
              "        text-align: right;\n",
              "    }\n",
              "</style>\n",
              "<table border=\"1\" class=\"dataframe\">\n",
              "  <thead>\n",
              "    <tr style=\"text-align: right;\">\n",
              "      <th></th>\n",
              "      <th>Volume</th>\n",
              "      <th>Open</th>\n",
              "      <th>High</th>\n",
              "      <th>Low</th>\n",
              "      <th>Pct</th>\n",
              "      <th>Close</th>\n",
              "    </tr>\n",
              "    <tr>\n",
              "      <th>Date</th>\n",
              "      <th></th>\n",
              "      <th></th>\n",
              "      <th></th>\n",
              "      <th></th>\n",
              "      <th></th>\n",
              "      <th></th>\n",
              "    </tr>\n",
              "  </thead>\n",
              "  <tbody>\n",
              "    <tr>\n",
              "      <th>2010-12-07</th>\n",
              "      <td>5077100</td>\n",
              "      <td>180.500000</td>\n",
              "      <td>181.470001</td>\n",
              "      <td>176.570007</td>\n",
              "      <td>-0.007189</td>\n",
              "      <td>176.770004</td>\n",
              "    </tr>\n",
              "    <tr>\n",
              "      <th>2010-12-08</th>\n",
              "      <td>3726900</td>\n",
              "      <td>177.490005</td>\n",
              "      <td>178.160004</td>\n",
              "      <td>175.199997</td>\n",
              "      <td>-0.002715</td>\n",
              "      <td>176.289993</td>\n",
              "    </tr>\n",
              "    <tr>\n",
              "      <th>2010-12-09</th>\n",
              "      <td>4555500</td>\n",
              "      <td>177.770004</td>\n",
              "      <td>178.110001</td>\n",
              "      <td>173.800003</td>\n",
              "      <td>-0.008168</td>\n",
              "      <td>174.850006</td>\n",
              "    </tr>\n",
              "    <tr>\n",
              "      <th>2010-12-10</th>\n",
              "      <td>3565500</td>\n",
              "      <td>174.880005</td>\n",
              "      <td>175.949997</td>\n",
              "      <td>173.360001</td>\n",
              "      <td>0.004404</td>\n",
              "      <td>175.619995</td>\n",
              "    </tr>\n",
              "    <tr>\n",
              "      <th>2010-12-13</th>\n",
              "      <td>4202500</td>\n",
              "      <td>176.330002</td>\n",
              "      <td>177.940002</td>\n",
              "      <td>173.729996</td>\n",
              "      <td>-0.007801</td>\n",
              "      <td>174.250000</td>\n",
              "    </tr>\n",
              "  </tbody>\n",
              "</table>\n",
              "</div>"
            ],
            "text/plain": [
              "             Volume        Open        High         Low       Pct       Close\n",
              "Date                                                                         \n",
              "2010-12-07  5077100  180.500000  181.470001  176.570007 -0.007189  176.770004\n",
              "2010-12-08  3726900  177.490005  178.160004  175.199997 -0.002715  176.289993\n",
              "2010-12-09  4555500  177.770004  178.110001  173.800003 -0.008168  174.850006\n",
              "2010-12-10  3565500  174.880005  175.949997  173.360001  0.004404  175.619995\n",
              "2010-12-13  4202500  176.330002  177.940002  173.729996 -0.007801  174.250000"
            ]
          },
          "metadata": {
            "tags": []
          },
          "execution_count": 7
        }
      ]
    },
    {
      "cell_type": "markdown",
      "metadata": {
        "id": "kfROUMm3I6Wt"
      },
      "source": [
        "#### Visualize the Ten-year daily close price data"
      ]
    },
    {
      "cell_type": "code",
      "metadata": {
        "colab": {
          "base_uri": "https://localhost:8080/",
          "height": 295
        },
        "id": "ZKVcthjPI6Wu",
        "scrolled": false,
        "outputId": "751992d2-b6d8-4944-fd73-d886a42e15ff"
      },
      "source": [
        "plt.plot(rawdata.index, rawdata['Close'], color='royalblue')\n",
        "plt.title('Daily close price')\n",
        "plt.xlabel('Day')\n",
        "plt.ylabel('Dollar')\n",
        "plt.show()"
      ],
      "execution_count": 8,
      "outputs": [
        {
          "output_type": "display_data",
          "data": {
            "image/png": "[encoded data removed]",
            "text/plain": [
              "<Figure size 432x288 with 1 Axes>"
            ]
          },
          "metadata": {
            "tags": [],
            "needs_background": "light"
          }
        }
      ]
    },
    {
      "cell_type": "markdown",
      "metadata": {
        "id": "SEsJofDnI6Wu"
      },
      "source": [
        "## 2. Data Preprocessing\n",
        "\n",
        "### 2.1 Scale features\n",
        "\n",
        "The input and output data that go into model need to be scaled. Use preprocessing.MinMaxScaler() function in scikit-learn library to scale data to the range of 0-1.\n",
        "\n",
        "#### Scaled data"
      ]
    },
    {
      "cell_type": "code",
      "metadata": {
        "collapsed": true,
        "id": "ZAYxLwuWI6Wu"
      },
      "source": [
        "data=rawdata.copy()"
      ],
      "execution_count": 9,
      "outputs": []
    },
    {
      "cell_type": "code",
      "metadata": {
        "colab": {
          "base_uri": "https://localhost:8080/",
          "height": 235
        },
        "id": "9oqJHwwOI6Wu",
        "scrolled": true,
        "outputId": "d2fe29a1-c585-4c18-8f21-27171d461904"
      },
      "source": [
        "min_max_scaler = preprocessing.MinMaxScaler()\n",
        "data['Volume'] = min_max_scaler.fit_transform(data['Volume'].values.reshape(-1,1))\n",
        "data['Open'] = min_max_scaler.fit_transform(data['Open'].values.reshape(-1,1))\n",
        "data['High'] = min_max_scaler.fit_transform(data['High'].values.reshape(-1,1))\n",
        "data['Low'] = min_max_scaler.fit_transform(data['Low'].values.reshape(-1,1))\n",
        "data['Pct'] = min_max_scaler.fit_transform(data['Pct'].values.reshape(-1,1))\n",
        "data['Close'] = min_max_scaler.fit_transform(data['Close'].values.reshape(-1,1))\n",
        "\n",
        "data.head()"
      ],
      "execution_count": 10,
      "outputs": [
        {
          "output_type": "execute_result",
          "data": {
            "text/html": [
              "<div>\n",
              "<style scoped>\n",
              "    .dataframe tbody tr th:only-of-type {\n",
              "        vertical-align: middle;\n",
              "    }\n",
              "\n",
              "    .dataframe tbody tr th {\n",
              "        vertical-align: top;\n",
              "    }\n",
              "\n",
              "    .dataframe thead th {\n",
              "        text-align: right;\n",
              "    }\n",
              "</style>\n",
              "<table border=\"1\" class=\"dataframe\">\n",
              "  <thead>\n",
              "    <tr style=\"text-align: right;\">\n",
              "      <th></th>\n",
              "      <th>Volume</th>\n",
              "      <th>Open</th>\n",
              "      <th>High</th>\n",
              "      <th>Low</th>\n",
              "      <th>Pct</th>\n",
              "      <th>Close</th>\n",
              "    </tr>\n",
              "    <tr>\n",
              "      <th>Date</th>\n",
              "      <th></th>\n",
              "      <th></th>\n",
              "      <th></th>\n",
              "      <th></th>\n",
              "      <th></th>\n",
              "      <th></th>\n",
              "    </tr>\n",
              "  </thead>\n",
              "  <tbody>\n",
              "    <tr>\n",
              "      <th>2010-12-07</th>\n",
              "      <td>0.180442</td>\n",
              "      <td>0.005703</td>\n",
              "      <td>0.005291</td>\n",
              "      <td>0.004804</td>\n",
              "      <td>0.420312</td>\n",
              "      <td>0.004688</td>\n",
              "    </tr>\n",
              "    <tr>\n",
              "      <th>2010-12-08</th>\n",
              "      <td>0.122376</td>\n",
              "      <td>0.004814</td>\n",
              "      <td>0.004314</td>\n",
              "      <td>0.004393</td>\n",
              "      <td>0.436063</td>\n",
              "      <td>0.004545</td>\n",
              "    </tr>\n",
              "    <tr>\n",
              "      <th>2010-12-09</th>\n",
              "      <td>0.158010</td>\n",
              "      <td>0.004897</td>\n",
              "      <td>0.004300</td>\n",
              "      <td>0.003972</td>\n",
              "      <td>0.416864</td>\n",
              "      <td>0.004118</td>\n",
              "    </tr>\n",
              "    <tr>\n",
              "      <th>2010-12-10</th>\n",
              "      <td>0.115435</td>\n",
              "      <td>0.004043</td>\n",
              "      <td>0.003662</td>\n",
              "      <td>0.003839</td>\n",
              "      <td>0.461128</td>\n",
              "      <td>0.004347</td>\n",
              "    </tr>\n",
              "    <tr>\n",
              "      <th>2010-12-13</th>\n",
              "      <td>0.142829</td>\n",
              "      <td>0.004472</td>\n",
              "      <td>0.004249</td>\n",
              "      <td>0.003951</td>\n",
              "      <td>0.418158</td>\n",
              "      <td>0.003940</td>\n",
              "    </tr>\n",
              "  </tbody>\n",
              "</table>\n",
              "</div>"
            ],
            "text/plain": [
              "              Volume      Open      High       Low       Pct     Close\n",
              "Date                                                                  \n",
              "2010-12-07  0.180442  0.005703  0.005291  0.004804  0.420312  0.004688\n",
              "2010-12-08  0.122376  0.004814  0.004314  0.004393  0.436063  0.004545\n",
              "2010-12-09  0.158010  0.004897  0.004300  0.003972  0.416864  0.004118\n",
              "2010-12-10  0.115435  0.004043  0.003662  0.003839  0.461128  0.004347\n",
              "2010-12-13  0.142829  0.004472  0.004249  0.003951  0.418158  0.003940"
            ]
          },
          "metadata": {
            "tags": []
          },
          "execution_count": 10
        }
      ]
    },
    {
      "cell_type": "markdown",
      "metadata": {
        "id": "cgrnc6QRI6Wv"
      },
      "source": [
        "### 2.2 Split data to training set and test set\n",
        "\n",
        "Split data into training (67%) and test sets (33%)."
      ]
    },
    {
      "cell_type": "code",
      "metadata": {
        "colab": {
          "base_uri": "https://localhost:8080/"
        },
        "id": "I3lPmXcoTBjs",
        "outputId": "dc935dda-6e39-47b8-b7c8-6c31e481e6ed"
      },
      "source": [
        "# split into inputs and outputs\n",
        "#X, y = data[:, :-1].values, data[:, -1].values\n",
        "X = data.iloc[:,:-1].values\n",
        "y = data.iloc[:,-1].values\n",
        "print(X.shape, y.shape)"
      ],
      "execution_count": 44,
      "outputs": [
        {
          "output_type": "stream",
          "text": [
            "(2517, 5) (2517,)\n"
          ],
          "name": "stdout"
        }
      ]
    },
    {
      "cell_type": "code",
      "metadata": {
        "colab": {
          "base_uri": "https://localhost:8080/"
        },
        "id": "SvvzYBubTHDP",
        "outputId": "98d13a5a-1ac5-40dc-d758-96564f13dddc"
      },
      "source": [
        "# split into train test sets\n",
        "from sklearn.datasets import make_blobs\n",
        "from sklearn.model_selection import train_test_split\n",
        "X_train, X_test, y_train, y_test = train_test_split(X, y, test_size=0.33, random_state=1)\n",
        "print(X_train.shape, X_test.shape, y_train.shape, y_test.shape)"
      ],
      "execution_count": 45,
      "outputs": [
        {
          "output_type": "stream",
          "text": [
            "(1686, 5) (831, 5) (1686,) (831,)\n"
          ],
          "name": "stdout"
        }
      ]
    },
    {
      "cell_type": "code",
      "metadata": {
        "id": "tkCO2WQ--bFO"
      },
      "source": [
        "# Feature Scaling\n",
        "sc = MinMaxScaler(feature_range = (0, 1))\n",
        "training_set_scaled = sc.fit_transform(X)\n",
        "# Creating a data structure with 60 time-steps and 1 output\n",
        "X_train = []\n",
        "y_train = []\n",
        "for i in range(60, 800):\n",
        "    X_train.append(training_set_scaled[i-60:i, 0])\n",
        "    y_train.append(training_set_scaled[i, 0])\n",
        "X_train, y_train = np.array(X_train), np.array(y_train)\n",
        "X_train = np.reshape(X_train, (X_train.shape[0], X_train.shape[1], 1))"
      ],
      "execution_count": 46,
      "outputs": []
    },
    {
      "cell_type": "markdown",
      "metadata": {
        "id": "VYGU1GxBI6Ww"
      },
      "source": [
        "## 3. Modeling\n",
        "\n",
        "We have now reshaped the data into the following format (#values, #time-steps, #1 dimensional output).\n",
        "Now, it’s time to build the model. We will build the LSTM with 50 neurons and 4 hidden layers. Finally, we will assign 1 neuron in the output layer for predicting the normalized stock price. We will use the MSE loss function and the Adam stochastic gradient descent optimizer."
      ]
    },
    {
      "cell_type": "code",
      "metadata": {
        "collapsed": true,
        "id": "iJ7NnlYGI6Ww"
      },
      "source": [
        "model = Sequential()\n",
        "#Adding the first LSTM layer and some Dropout regularisation\n",
        "model.add(LSTM(units = 50, return_sequences = True, input_shape = (X_train.shape[1], 1)))\n",
        "model.add(Dropout(0.2))\n",
        "# Adding a second LSTM layer and some Dropout regularisation\n",
        "model.add(LSTM(units = 50, return_sequences = True))\n",
        "model.add(Dropout(0.2))\n",
        "# Adding a third LSTM layer and some Dropout regularisation\n",
        "model.add(LSTM(units = 50, return_sequences = True))\n",
        "model.add(Dropout(0.2))\n",
        "# Adding a fourth LSTM layer and some Dropout regularisation\n",
        "model.add(LSTM(units = 50))\n",
        "model.add(Dropout(0.2))\n",
        "# Adding the output layer\n",
        "model.add(Dense(units = 5))"
      ],
      "execution_count": 50,
      "outputs": []
    },
    {
      "cell_type": "markdown",
      "metadata": {
        "id": "hRjHkv8EI6Ww"
      },
      "source": [
        "### 3.2 Compile Network\n",
        "\n",
        "Before training, configure the learning process by specifying:\n",
        "\n",
        "- **Optimizer** to be 'adam';\n",
        "\n",
        "- **Loss function** to be 'mse';\n",
        "\n",
        "- **Evaluation metric** to be 'accuracy'."
      ]
    },
    {
      "cell_type": "code",
      "metadata": {
        "collapsed": true,
        "id": "TUKyYPIwI6Ww"
      },
      "source": [
        "# Compiling the RNN\n",
        "model.compile(optimizer = 'adam', loss = 'mean_squared_error')\n"
      ],
      "execution_count": 51,
      "outputs": []
    },
    {
      "cell_type": "code",
      "metadata": {
        "colab": {
          "base_uri": "https://localhost:8080/"
        },
        "id": "_nSmcLasBnuZ",
        "outputId": "1dd5ff18-0dc4-4e8e-ef75-7daa21de2de2"
      },
      "source": [
        "# Fitting the RNN to the Training set\n",
        "model.fit(X_train, y_train, epochs = 100, batch_size = 32)\n"
      ],
      "execution_count": 52,
      "outputs": [
        {
          "output_type": "stream",
          "text": [
            "Epoch 1/100\n",
            "24/24 [==============================] - 20s 245ms/step - loss: 0.0181\n",
            "Epoch 2/100\n",
            "24/24 [==============================] - 6s 253ms/step - loss: 0.0107\n",
            "Epoch 3/100\n",
            "24/24 [==============================] - 6s 245ms/step - loss: 0.0109\n",
            "Epoch 4/100\n",
            "24/24 [==============================] - 6s 243ms/step - loss: 0.0109\n",
            "Epoch 5/100\n",
            "24/24 [==============================] - 6s 244ms/step - loss: 0.0100\n",
            "Epoch 6/100\n",
            "24/24 [==============================] - 6s 242ms/step - loss: 0.0084\n",
            "Epoch 7/100\n",
            "24/24 [==============================] - 6s 245ms/step - loss: 0.0099\n",
            "Epoch 8/100\n",
            "24/24 [==============================] - 6s 243ms/step - loss: 0.0116\n",
            "Epoch 9/100\n",
            "24/24 [==============================] - 6s 239ms/step - loss: 0.0124\n",
            "Epoch 10/100\n",
            "24/24 [==============================] - 6s 244ms/step - loss: 0.0096\n",
            "Epoch 11/100\n",
            "24/24 [==============================] - 6s 250ms/step - loss: 0.0121\n",
            "Epoch 12/100\n",
            "24/24 [==============================] - 6s 242ms/step - loss: 0.0080\n",
            "Epoch 13/100\n",
            "24/24 [==============================] - 6s 237ms/step - loss: 0.0097\n",
            "Epoch 14/100\n",
            "24/24 [==============================] - 6s 239ms/step - loss: 0.0100\n",
            "Epoch 15/100\n",
            "24/24 [==============================] - 6s 245ms/step - loss: 0.0133\n",
            "Epoch 16/100\n",
            "24/24 [==============================] - 6s 249ms/step - loss: 0.0106\n",
            "Epoch 17/100\n",
            "24/24 [==============================] - 6s 246ms/step - loss: 0.0091\n",
            "Epoch 18/100\n",
            "24/24 [==============================] - 6s 249ms/step - loss: 0.0092\n",
            "Epoch 19/100\n",
            "24/24 [==============================] - 6s 240ms/step - loss: 0.0087\n",
            "Epoch 20/100\n",
            "24/24 [==============================] - 6s 248ms/step - loss: 0.0141\n",
            "Epoch 21/100\n",
            "24/24 [==============================] - 6s 243ms/step - loss: 0.0121\n",
            "Epoch 22/100\n",
            "24/24 [==============================] - 6s 239ms/step - loss: 0.0099\n",
            "Epoch 23/100\n",
            "24/24 [==============================] - 6s 240ms/step - loss: 0.0095\n",
            "Epoch 24/100\n",
            "24/24 [==============================] - 6s 238ms/step - loss: 0.0118\n",
            "Epoch 25/100\n",
            "24/24 [==============================] - 6s 241ms/step - loss: 0.0081\n",
            "Epoch 26/100\n",
            "24/24 [==============================] - 6s 242ms/step - loss: 0.0075\n",
            "Epoch 27/100\n",
            "24/24 [==============================] - 6s 241ms/step - loss: 0.0075\n",
            "Epoch 28/100\n",
            "24/24 [==============================] - 6s 243ms/step - loss: 0.0092\n",
            "Epoch 29/100\n",
            "24/24 [==============================] - 6s 242ms/step - loss: 0.0100\n",
            "Epoch 30/100\n",
            "24/24 [==============================] - 6s 245ms/step - loss: 0.0096\n",
            "Epoch 31/100\n",
            "24/24 [==============================] - 6s 237ms/step - loss: 0.0097\n",
            "Epoch 32/100\n",
            "24/24 [==============================] - 6s 251ms/step - loss: 0.0077\n",
            "Epoch 33/100\n",
            "24/24 [==============================] - 6s 242ms/step - loss: 0.0092\n",
            "Epoch 34/100\n",
            "24/24 [==============================] - 6s 241ms/step - loss: 0.0083\n",
            "Epoch 35/100\n",
            "24/24 [==============================] - 6s 248ms/step - loss: 0.0105\n",
            "Epoch 36/100\n",
            "24/24 [==============================] - 6s 245ms/step - loss: 0.0080\n",
            "Epoch 37/100\n",
            "24/24 [==============================] - 6s 239ms/step - loss: 0.0088\n",
            "Epoch 38/100\n",
            "24/24 [==============================] - 6s 240ms/step - loss: 0.0088\n",
            "Epoch 39/100\n",
            "24/24 [==============================] - 6s 237ms/step - loss: 0.0066\n",
            "Epoch 40/100\n",
            "24/24 [==============================] - 6s 236ms/step - loss: 0.0085\n",
            "Epoch 41/100\n",
            "24/24 [==============================] - 6s 236ms/step - loss: 0.0065\n",
            "Epoch 42/100\n",
            "24/24 [==============================] - 6s 237ms/step - loss: 0.0063\n",
            "Epoch 43/100\n",
            "24/24 [==============================] - 6s 241ms/step - loss: 0.0073\n",
            "Epoch 44/100\n",
            "24/24 [==============================] - 6s 238ms/step - loss: 0.0070\n",
            "Epoch 45/100\n",
            "24/24 [==============================] - 6s 238ms/step - loss: 0.0067\n",
            "Epoch 46/100\n",
            "24/24 [==============================] - 6s 238ms/step - loss: 0.0082\n",
            "Epoch 47/100\n",
            "24/24 [==============================] - 6s 240ms/step - loss: 0.0065\n",
            "Epoch 48/100\n",
            "24/24 [==============================] - 6s 239ms/step - loss: 0.0079\n",
            "Epoch 49/100\n",
            "24/24 [==============================] - 6s 242ms/step - loss: 0.0079\n",
            "Epoch 50/100\n",
            "24/24 [==============================] - 6s 240ms/step - loss: 0.0060\n",
            "Epoch 51/100\n",
            "24/24 [==============================] - 6s 237ms/step - loss: 0.0073\n",
            "Epoch 52/100\n",
            "24/24 [==============================] - 6s 237ms/step - loss: 0.0073\n",
            "Epoch 53/100\n",
            "24/24 [==============================] - 6s 235ms/step - loss: 0.0066\n",
            "Epoch 54/100\n",
            "24/24 [==============================] - 6s 239ms/step - loss: 0.0065\n",
            "Epoch 55/100\n",
            "24/24 [==============================] - 6s 241ms/step - loss: 0.0086\n",
            "Epoch 56/100\n",
            "24/24 [==============================] - 6s 238ms/step - loss: 0.0086\n",
            "Epoch 57/100\n",
            "24/24 [==============================] - 6s 243ms/step - loss: 0.0057\n",
            "Epoch 58/100\n",
            "24/24 [==============================] - 6s 242ms/step - loss: 0.0076\n",
            "Epoch 59/100\n",
            "24/24 [==============================] - 6s 243ms/step - loss: 0.0068\n",
            "Epoch 60/100\n",
            "24/24 [==============================] - 6s 241ms/step - loss: 0.0064\n",
            "Epoch 61/100\n",
            "24/24 [==============================] - 6s 238ms/step - loss: 0.0073\n",
            "Epoch 62/100\n",
            "24/24 [==============================] - 6s 235ms/step - loss: 0.0067\n",
            "Epoch 63/100\n",
            "24/24 [==============================] - 6s 237ms/step - loss: 0.0066\n",
            "Epoch 64/100\n",
            "24/24 [==============================] - 6s 237ms/step - loss: 0.0064\n",
            "Epoch 65/100\n",
            "24/24 [==============================] - 6s 243ms/step - loss: 0.0065\n",
            "Epoch 66/100\n",
            "24/24 [==============================] - 6s 241ms/step - loss: 0.0063\n",
            "Epoch 67/100\n",
            "24/24 [==============================] - 6s 242ms/step - loss: 0.0056\n",
            "Epoch 68/100\n",
            "24/24 [==============================] - 6s 242ms/step - loss: 0.0060\n",
            "Epoch 69/100\n",
            "24/24 [==============================] - 6s 239ms/step - loss: 0.0063\n",
            "Epoch 70/100\n",
            "24/24 [==============================] - 6s 235ms/step - loss: 0.0063\n",
            "Epoch 71/100\n",
            "24/24 [==============================] - 6s 234ms/step - loss: 0.0075\n",
            "Epoch 72/100\n",
            "24/24 [==============================] - 6s 235ms/step - loss: 0.0060\n",
            "Epoch 73/100\n",
            "24/24 [==============================] - 6s 236ms/step - loss: 0.0066\n",
            "Epoch 74/100\n",
            "24/24 [==============================] - 6s 242ms/step - loss: 0.0063\n",
            "Epoch 75/100\n",
            "24/24 [==============================] - 6s 241ms/step - loss: 0.0062\n",
            "Epoch 76/100\n",
            "24/24 [==============================] - 6s 238ms/step - loss: 0.0061\n",
            "Epoch 77/100\n",
            "24/24 [==============================] - 6s 243ms/step - loss: 0.0064\n",
            "Epoch 78/100\n",
            "24/24 [==============================] - 6s 239ms/step - loss: 0.0061\n",
            "Epoch 79/100\n",
            "24/24 [==============================] - 6s 240ms/step - loss: 0.0059\n",
            "Epoch 80/100\n",
            "24/24 [==============================] - 6s 243ms/step - loss: 0.0066\n",
            "Epoch 81/100\n",
            "24/24 [==============================] - 6s 240ms/step - loss: 0.0067\n",
            "Epoch 82/100\n",
            "24/24 [==============================] - 6s 234ms/step - loss: 0.0055\n",
            "Epoch 83/100\n",
            "24/24 [==============================] - 6s 239ms/step - loss: 0.0060\n",
            "Epoch 84/100\n",
            "24/24 [==============================] - 6s 240ms/step - loss: 0.0067\n",
            "Epoch 85/100\n",
            "24/24 [==============================] - 6s 239ms/step - loss: 0.0052\n",
            "Epoch 86/100\n",
            "24/24 [==============================] - 6s 239ms/step - loss: 0.0059\n",
            "Epoch 87/100\n",
            "24/24 [==============================] - 6s 238ms/step - loss: 0.0062\n",
            "Epoch 88/100\n",
            "24/24 [==============================] - 6s 242ms/step - loss: 0.0049\n",
            "Epoch 89/100\n",
            "24/24 [==============================] - 6s 239ms/step - loss: 0.0047\n",
            "Epoch 90/100\n",
            "24/24 [==============================] - 6s 241ms/step - loss: 0.0070\n",
            "Epoch 91/100\n",
            "24/24 [==============================] - 6s 241ms/step - loss: 0.0060\n",
            "Epoch 92/100\n",
            "24/24 [==============================] - 6s 242ms/step - loss: 0.0053\n",
            "Epoch 93/100\n",
            "24/24 [==============================] - 6s 242ms/step - loss: 0.0055\n",
            "Epoch 94/100\n",
            "24/24 [==============================] - 6s 242ms/step - loss: 0.0055\n",
            "Epoch 95/100\n",
            "24/24 [==============================] - 6s 236ms/step - loss: 0.0068\n",
            "Epoch 96/100\n",
            "24/24 [==============================] - 6s 239ms/step - loss: 0.0056\n",
            "Epoch 97/100\n",
            "24/24 [==============================] - 6s 242ms/step - loss: 0.0051\n",
            "Epoch 98/100\n",
            "24/24 [==============================] - 6s 241ms/step - loss: 0.0056\n",
            "Epoch 99/100\n",
            "24/24 [==============================] - 6s 235ms/step - loss: 0.0057\n",
            "Epoch 100/100\n",
            "24/24 [==============================] - 6s 240ms/step - loss: 0.0056\n"
          ],
          "name": "stdout"
        },
        {
          "output_type": "execute_result",
          "data": {
            "text/plain": [
              "<keras.callbacks.History at 0x7ff24c58df50>"
            ]
          },
          "metadata": {
            "tags": []
          },
          "execution_count": 52
        }
      ]
    },
    {
      "cell_type": "markdown",
      "metadata": {
        "id": "yov_Nm0LI6Wx"
      },
      "source": [
        "### 3.3 Train Network\n",
        "\n",
        "Fit the model to training data to learn the parameters.\n"
      ]
    },
    {
      "cell_type": "markdown",
      "metadata": {
        "id": "TogHBlaAI6Wx"
      },
      "source": [
        "### 3.4 Evaluate Network\n",
        "\n",
        "Evaluate model on the test set"
      ]
    },
    {
      "cell_type": "code",
      "metadata": {
        "colab": {
          "base_uri": "https://localhost:8080/",
          "height": 351
        },
        "id": "XJyPTmNEI6Wx",
        "outputId": "580cc893-789f-47d0-bf19-38cc9aaad50f"
      },
      "source": [
        "#Prepare the test data (reshape them):\n",
        "# Getting the predicted stock price of 2017\n",
        "dataset_train = data.iloc[:1000, 1:2]\n",
        "dataset_test = data.iloc[1000:, 1:2]\n",
        "dataset_total = pd.concat((dataset_train, dataset_test), axis = 0)\n",
        "inputs = dataset_total[len(dataset_total) - len(dataset_test) - 60:].values\n",
        "inputs = inputs.reshape(-1,1)\n",
        "#print(inputs)\n",
        "inputs = sc.transform(inputs)\n",
        "X_test = []\n",
        "for i in range(60, 1000):\n",
        "    X_test.append(inputs[i-60:i, 0])\n",
        "X_test = np.array(X_test)\n",
        "X_test = np.reshape(X_test, (X_test.shape[0], X_test.shape[1], 1))\n",
        "print(X_test.shape)"
      ],
      "execution_count": 57,
      "outputs": [
        {
          "output_type": "error",
          "ename": "ValueError",
          "evalue": "ignored",
          "traceback": [
            "\u001b[0;31m---------------------------------------------------------------------------\u001b[0m",
            "\u001b[0;31mValueError\u001b[0m                                Traceback (most recent call last)",
            "\u001b[0;32m<ipython-input-57-c2f25cb785e1>\u001b[0m in \u001b[0;36m<module>\u001b[0;34m()\u001b[0m\n\u001b[1;32m      7\u001b[0m \u001b[0minputs\u001b[0m \u001b[0;34m=\u001b[0m \u001b[0minputs\u001b[0m\u001b[0;34m.\u001b[0m\u001b[0mreshape\u001b[0m\u001b[0;34m(\u001b[0m\u001b[0;34m-\u001b[0m\u001b[0;36m1\u001b[0m\u001b[0;34m,\u001b[0m\u001b[0;36m1\u001b[0m\u001b[0;34m)\u001b[0m\u001b[0;34m\u001b[0m\u001b[0;34m\u001b[0m\u001b[0m\n\u001b[1;32m      8\u001b[0m \u001b[0;31m#print(inputs)\u001b[0m\u001b[0;34m\u001b[0m\u001b[0;34m\u001b[0m\u001b[0;34m\u001b[0m\u001b[0m\n\u001b[0;32m----> 9\u001b[0;31m \u001b[0minputs\u001b[0m \u001b[0;34m=\u001b[0m \u001b[0msc\u001b[0m\u001b[0;34m.\u001b[0m\u001b[0mtransform\u001b[0m\u001b[0;34m(\u001b[0m\u001b[0minputs\u001b[0m\u001b[0;34m)\u001b[0m\u001b[0;34m\u001b[0m\u001b[0;34m\u001b[0m\u001b[0m\n\u001b[0m\u001b[1;32m     10\u001b[0m \u001b[0mX_test\u001b[0m \u001b[0;34m=\u001b[0m \u001b[0;34m[\u001b[0m\u001b[0;34m]\u001b[0m\u001b[0;34m\u001b[0m\u001b[0;34m\u001b[0m\u001b[0m\n\u001b[1;32m     11\u001b[0m \u001b[0;32mfor\u001b[0m \u001b[0mi\u001b[0m \u001b[0;32min\u001b[0m \u001b[0mrange\u001b[0m\u001b[0;34m(\u001b[0m\u001b[0;36m60\u001b[0m\u001b[0;34m,\u001b[0m \u001b[0;36m1000\u001b[0m\u001b[0;34m)\u001b[0m\u001b[0;34m:\u001b[0m\u001b[0;34m\u001b[0m\u001b[0;34m\u001b[0m\u001b[0m\n",
            "\u001b[0;32m/usr/local/lib/python3.7/dist-packages/sklearn/preprocessing/_data.py\u001b[0m in \u001b[0;36mtransform\u001b[0;34m(self, X)\u001b[0m\n\u001b[1;32m    412\u001b[0m                         force_all_finite=\"allow-nan\")\n\u001b[1;32m    413\u001b[0m \u001b[0;34m\u001b[0m\u001b[0m\n\u001b[0;32m--> 414\u001b[0;31m         \u001b[0mX\u001b[0m \u001b[0;34m*=\u001b[0m \u001b[0mself\u001b[0m\u001b[0;34m.\u001b[0m\u001b[0mscale_\u001b[0m\u001b[0;34m\u001b[0m\u001b[0;34m\u001b[0m\u001b[0m\n\u001b[0m\u001b[1;32m    415\u001b[0m         \u001b[0mX\u001b[0m \u001b[0;34m+=\u001b[0m \u001b[0mself\u001b[0m\u001b[0;34m.\u001b[0m\u001b[0mmin_\u001b[0m\u001b[0;34m\u001b[0m\u001b[0;34m\u001b[0m\u001b[0m\n\u001b[1;32m    416\u001b[0m         \u001b[0;32mreturn\u001b[0m \u001b[0mX\u001b[0m\u001b[0;34m\u001b[0m\u001b[0;34m\u001b[0m\u001b[0m\n",
            "\u001b[0;31mValueError\u001b[0m: non-broadcastable output operand with shape (1577,1) doesn't match the broadcast shape (1577,5)"
          ]
        }
      ]
    },
    {
      "cell_type": "code",
      "metadata": {
        "id": "NAxJu0e2Fx1d"
      },
      "source": [
        "#Make Predictions using the test set\n",
        "predicted_stock_price = model.predict(X_test)\n",
        "predicted_stock_price = sc.inverse_transform(predicted_stock_price)"
      ],
      "execution_count": 58,
      "outputs": []
    },
    {
      "cell_type": "markdown",
      "metadata": {
        "id": "N3FOmpkgI6Wx"
      },
      "source": [
        "## 4. Results\n",
        "\n",
        "The model shows that LSTM can capture the pattern of Amazon's stock prices. However, there are some gaps between predicted and true movements. We can certainly improve the performance by further tuning the model, but the assumption of the stable status in stock market mechanism makes it hard to get significantly better results. \n",
        "\n",
        "Since investor behavior is highly impacted by various factors, the future idea is to add sentiment analysis to better understand investors' pyschology. Therefore, we can capture more price catalysts in the market and achieve a better prediction with a holistic view. "
      ]
    },
    {
      "cell_type": "code",
      "metadata": {
        "colab": {
          "base_uri": "https://localhost:8080/"
        },
        "id": "wzKJCcVKtsfV",
        "outputId": "722b7eb0-6f17-4fa7-dd0d-7d912ecdbdfb"
      },
      "source": [
        "\n",
        "\n",
        "# Calculating RMSE\n",
        "rmse =np.sqrt(np.mean(((predictions- y_test)**2)))\n",
        "rmse"
      ],
      "execution_count": 59,
      "outputs": [
        {
          "output_type": "execute_result",
          "data": {
            "text/plain": [
              "383.9080952782968"
            ]
          },
          "metadata": {
            "tags": []
          },
          "execution_count": 59
        }
      ]
    },
    {
      "cell_type": "code",
      "metadata": {
        "colab": {
          "base_uri": "https://localhost:8080/",
          "height": 562
        },
        "id": "2CuNavVCL6jX",
        "outputId": "675db43d-af0a-4079-b42c-4959301d5ded"
      },
      "source": [
        "plt.plot(data.loc[1000:, 'Date'],y_test.values, color = 'red', label = 'Real Amazon Stock Price')\n",
        "plt.plot(data.loc[1000:, 'Date'],predicted_stock_price, color = 'blue', label = 'Predicted Amazon Stock Price')\n",
        "#plt.xticks(np.arange(0,459,50))\n",
        "plt.title('Amazon Stock Price Prediction')\n",
        "plt.xlabel('Time')\n",
        "plt.ylabel('Amazon Stock Price')\n",
        "plt.legend()\n",
        "plt.show()"
      ],
      "execution_count": 64,
      "outputs": [
        {
          "output_type": "error",
          "ename": "KeyError",
          "evalue": "ignored",
          "traceback": [
            "\u001b[0;31m---------------------------------------------------------------------------\u001b[0m",
            "\u001b[0;31mKeyError\u001b[0m                                  Traceback (most recent call last)",
            "\u001b[0;32m/usr/local/lib/python3.7/dist-packages/pandas/core/indexes/base.py\u001b[0m in \u001b[0;36mget_loc\u001b[0;34m(self, key, method, tolerance)\u001b[0m\n\u001b[1;32m   2897\u001b[0m             \u001b[0;32mtry\u001b[0m\u001b[0;34m:\u001b[0m\u001b[0;34m\u001b[0m\u001b[0;34m\u001b[0m\u001b[0m\n\u001b[0;32m-> 2898\u001b[0;31m                 \u001b[0;32mreturn\u001b[0m \u001b[0mself\u001b[0m\u001b[0;34m.\u001b[0m\u001b[0m_engine\u001b[0m\u001b[0;34m.\u001b[0m\u001b[0mget_loc\u001b[0m\u001b[0;34m(\u001b[0m\u001b[0mcasted_key\u001b[0m\u001b[0;34m)\u001b[0m\u001b[0;34m\u001b[0m\u001b[0;34m\u001b[0m\u001b[0m\n\u001b[0m\u001b[1;32m   2899\u001b[0m             \u001b[0;32mexcept\u001b[0m \u001b[0mKeyError\u001b[0m \u001b[0;32mas\u001b[0m \u001b[0merr\u001b[0m\u001b[0;34m:\u001b[0m\u001b[0;34m\u001b[0m\u001b[0;34m\u001b[0m\u001b[0m\n",
            "\u001b[0;32mpandas/_libs/index.pyx\u001b[0m in \u001b[0;36mpandas._libs.index.IndexEngine.get_loc\u001b[0;34m()\u001b[0m\n",
            "\u001b[0;32mpandas/_libs/index.pyx\u001b[0m in \u001b[0;36mpandas._libs.index.IndexEngine.get_loc\u001b[0;34m()\u001b[0m\n",
            "\u001b[0;32mpandas/_libs/hashtable_class_helper.pxi\u001b[0m in \u001b[0;36mpandas._libs.hashtable.PyObjectHashTable.get_item\u001b[0;34m()\u001b[0m\n",
            "\u001b[0;32mpandas/_libs/hashtable_class_helper.pxi\u001b[0m in \u001b[0;36mpandas._libs.hashtable.PyObjectHashTable.get_item\u001b[0;34m()\u001b[0m\n",
            "\u001b[0;31mKeyError\u001b[0m: 'Date'",
            "\nThe above exception was the direct cause of the following exception:\n",
            "\u001b[0;31mKeyError\u001b[0m                                  Traceback (most recent call last)",
            "\u001b[0;32m<ipython-input-64-937a7e6300c8>\u001b[0m in \u001b[0;36m<module>\u001b[0;34m()\u001b[0m\n\u001b[0;32m----> 1\u001b[0;31m \u001b[0mplt\u001b[0m\u001b[0;34m.\u001b[0m\u001b[0mplot\u001b[0m\u001b[0;34m(\u001b[0m\u001b[0mdata\u001b[0m\u001b[0;34m.\u001b[0m\u001b[0mloc\u001b[0m\u001b[0;34m[\u001b[0m\u001b[0;36m1000\u001b[0m\u001b[0;34m:\u001b[0m\u001b[0;34m,\u001b[0m \u001b[0;34m'Date'\u001b[0m\u001b[0;34m]\u001b[0m\u001b[0;34m,\u001b[0m\u001b[0my_test\u001b[0m\u001b[0;34m.\u001b[0m\u001b[0mvalues\u001b[0m\u001b[0;34m,\u001b[0m \u001b[0mcolor\u001b[0m \u001b[0;34m=\u001b[0m \u001b[0;34m'red'\u001b[0m\u001b[0;34m,\u001b[0m \u001b[0mlabel\u001b[0m \u001b[0;34m=\u001b[0m \u001b[0;34m'Real Amazon Stock Price'\u001b[0m\u001b[0;34m)\u001b[0m\u001b[0;34m\u001b[0m\u001b[0;34m\u001b[0m\u001b[0m\n\u001b[0m\u001b[1;32m      2\u001b[0m \u001b[0mplt\u001b[0m\u001b[0;34m.\u001b[0m\u001b[0mplot\u001b[0m\u001b[0;34m(\u001b[0m\u001b[0mdata\u001b[0m\u001b[0;34m.\u001b[0m\u001b[0mloc\u001b[0m\u001b[0;34m[\u001b[0m\u001b[0;36m1000\u001b[0m\u001b[0;34m:\u001b[0m\u001b[0;34m,\u001b[0m \u001b[0;34m'Date'\u001b[0m\u001b[0;34m]\u001b[0m\u001b[0;34m,\u001b[0m\u001b[0mpredicted_stock_price\u001b[0m\u001b[0;34m,\u001b[0m \u001b[0mcolor\u001b[0m \u001b[0;34m=\u001b[0m \u001b[0;34m'blue'\u001b[0m\u001b[0;34m,\u001b[0m \u001b[0mlabel\u001b[0m \u001b[0;34m=\u001b[0m \u001b[0;34m'Predicted Amazon Stock Price'\u001b[0m\u001b[0;34m)\u001b[0m\u001b[0;34m\u001b[0m\u001b[0;34m\u001b[0m\u001b[0m\n\u001b[1;32m      3\u001b[0m \u001b[0;31m#plt.xticks(np.arange(0,459,50))\u001b[0m\u001b[0;34m\u001b[0m\u001b[0;34m\u001b[0m\u001b[0;34m\u001b[0m\u001b[0m\n\u001b[1;32m      4\u001b[0m \u001b[0mplt\u001b[0m\u001b[0;34m.\u001b[0m\u001b[0mtitle\u001b[0m\u001b[0;34m(\u001b[0m\u001b[0;34m'Amazon Stock Price Prediction'\u001b[0m\u001b[0;34m)\u001b[0m\u001b[0;34m\u001b[0m\u001b[0;34m\u001b[0m\u001b[0m\n\u001b[1;32m      5\u001b[0m \u001b[0mplt\u001b[0m\u001b[0;34m.\u001b[0m\u001b[0mxlabel\u001b[0m\u001b[0;34m(\u001b[0m\u001b[0;34m'Time'\u001b[0m\u001b[0;34m)\u001b[0m\u001b[0;34m\u001b[0m\u001b[0;34m\u001b[0m\u001b[0m\n",
            "\u001b[0;32m/usr/local/lib/python3.7/dist-packages/pandas/core/indexing.py\u001b[0m in \u001b[0;36m__getitem__\u001b[0;34m(self, key)\u001b[0m\n\u001b[1;32m    871\u001b[0m                     \u001b[0;31m# AttributeError for IntervalTree get_value\u001b[0m\u001b[0;34m\u001b[0m\u001b[0;34m\u001b[0m\u001b[0;34m\u001b[0m\u001b[0m\n\u001b[1;32m    872\u001b[0m                     \u001b[0;32mpass\u001b[0m\u001b[0;34m\u001b[0m\u001b[0;34m\u001b[0m\u001b[0m\n\u001b[0;32m--> 873\u001b[0;31m             \u001b[0;32mreturn\u001b[0m \u001b[0mself\u001b[0m\u001b[0;34m.\u001b[0m\u001b[0m_getitem_tuple\u001b[0m\u001b[0;34m(\u001b[0m\u001b[0mkey\u001b[0m\u001b[0;34m)\u001b[0m\u001b[0;34m\u001b[0m\u001b[0;34m\u001b[0m\u001b[0m\n\u001b[0m\u001b[1;32m    874\u001b[0m         \u001b[0;32melse\u001b[0m\u001b[0;34m:\u001b[0m\u001b[0;34m\u001b[0m\u001b[0;34m\u001b[0m\u001b[0m\n\u001b[1;32m    875\u001b[0m             \u001b[0;31m# we by definition only have the 0th axis\u001b[0m\u001b[0;34m\u001b[0m\u001b[0;34m\u001b[0m\u001b[0;34m\u001b[0m\u001b[0m\n",
            "\u001b[0;32m/usr/local/lib/python3.7/dist-packages/pandas/core/indexing.py\u001b[0m in \u001b[0;36m_getitem_tuple\u001b[0;34m(self, tup)\u001b[0m\n\u001b[1;32m   1042\u001b[0m     \u001b[0;32mdef\u001b[0m \u001b[0m_getitem_tuple\u001b[0m\u001b[0;34m(\u001b[0m\u001b[0mself\u001b[0m\u001b[0;34m,\u001b[0m \u001b[0mtup\u001b[0m\u001b[0;34m:\u001b[0m \u001b[0mTuple\u001b[0m\u001b[0;34m)\u001b[0m\u001b[0;34m:\u001b[0m\u001b[0;34m\u001b[0m\u001b[0;34m\u001b[0m\u001b[0m\n\u001b[1;32m   1043\u001b[0m         \u001b[0;32mtry\u001b[0m\u001b[0;34m:\u001b[0m\u001b[0;34m\u001b[0m\u001b[0;34m\u001b[0m\u001b[0m\n\u001b[0;32m-> 1044\u001b[0;31m             \u001b[0;32mreturn\u001b[0m \u001b[0mself\u001b[0m\u001b[0;34m.\u001b[0m\u001b[0m_getitem_lowerdim\u001b[0m\u001b[0;34m(\u001b[0m\u001b[0mtup\u001b[0m\u001b[0;34m)\u001b[0m\u001b[0;34m\u001b[0m\u001b[0;34m\u001b[0m\u001b[0m\n\u001b[0m\u001b[1;32m   1045\u001b[0m         \u001b[0;32mexcept\u001b[0m \u001b[0mIndexingError\u001b[0m\u001b[0;34m:\u001b[0m\u001b[0;34m\u001b[0m\u001b[0;34m\u001b[0m\u001b[0m\n\u001b[1;32m   1046\u001b[0m             \u001b[0;32mpass\u001b[0m\u001b[0;34m\u001b[0m\u001b[0;34m\u001b[0m\u001b[0m\n",
            "\u001b[0;32m/usr/local/lib/python3.7/dist-packages/pandas/core/indexing.py\u001b[0m in \u001b[0;36m_getitem_lowerdim\u001b[0;34m(self, tup)\u001b[0m\n\u001b[1;32m    784\u001b[0m                 \u001b[0;31m# We don't need to check for tuples here because those are\u001b[0m\u001b[0;34m\u001b[0m\u001b[0;34m\u001b[0m\u001b[0;34m\u001b[0m\u001b[0m\n\u001b[1;32m    785\u001b[0m                 \u001b[0;31m#  caught by the _is_nested_tuple_indexer check above.\u001b[0m\u001b[0;34m\u001b[0m\u001b[0;34m\u001b[0m\u001b[0;34m\u001b[0m\u001b[0m\n\u001b[0;32m--> 786\u001b[0;31m                 \u001b[0msection\u001b[0m \u001b[0;34m=\u001b[0m \u001b[0mself\u001b[0m\u001b[0;34m.\u001b[0m\u001b[0m_getitem_axis\u001b[0m\u001b[0;34m(\u001b[0m\u001b[0mkey\u001b[0m\u001b[0;34m,\u001b[0m \u001b[0maxis\u001b[0m\u001b[0;34m=\u001b[0m\u001b[0mi\u001b[0m\u001b[0;34m)\u001b[0m\u001b[0;34m\u001b[0m\u001b[0;34m\u001b[0m\u001b[0m\n\u001b[0m\u001b[1;32m    787\u001b[0m \u001b[0;34m\u001b[0m\u001b[0m\n\u001b[1;32m    788\u001b[0m                 \u001b[0;31m# We should never have a scalar section here, because\u001b[0m\u001b[0;34m\u001b[0m\u001b[0;34m\u001b[0m\u001b[0;34m\u001b[0m\u001b[0m\n",
            "\u001b[0;32m/usr/local/lib/python3.7/dist-packages/pandas/core/indexing.py\u001b[0m in \u001b[0;36m_getitem_axis\u001b[0;34m(self, key, axis)\u001b[0m\n\u001b[1;32m   1108\u001b[0m         \u001b[0;31m# fall thru to straight lookup\u001b[0m\u001b[0;34m\u001b[0m\u001b[0;34m\u001b[0m\u001b[0;34m\u001b[0m\u001b[0m\n\u001b[1;32m   1109\u001b[0m         \u001b[0mself\u001b[0m\u001b[0;34m.\u001b[0m\u001b[0m_validate_key\u001b[0m\u001b[0;34m(\u001b[0m\u001b[0mkey\u001b[0m\u001b[0;34m,\u001b[0m \u001b[0maxis\u001b[0m\u001b[0;34m)\u001b[0m\u001b[0;34m\u001b[0m\u001b[0;34m\u001b[0m\u001b[0m\n\u001b[0;32m-> 1110\u001b[0;31m         \u001b[0;32mreturn\u001b[0m \u001b[0mself\u001b[0m\u001b[0;34m.\u001b[0m\u001b[0m_get_label\u001b[0m\u001b[0;34m(\u001b[0m\u001b[0mkey\u001b[0m\u001b[0;34m,\u001b[0m \u001b[0maxis\u001b[0m\u001b[0;34m=\u001b[0m\u001b[0maxis\u001b[0m\u001b[0;34m)\u001b[0m\u001b[0;34m\u001b[0m\u001b[0;34m\u001b[0m\u001b[0m\n\u001b[0m\u001b[1;32m   1111\u001b[0m \u001b[0;34m\u001b[0m\u001b[0m\n\u001b[1;32m   1112\u001b[0m     \u001b[0;32mdef\u001b[0m \u001b[0m_get_slice_axis\u001b[0m\u001b[0;34m(\u001b[0m\u001b[0mself\u001b[0m\u001b[0;34m,\u001b[0m \u001b[0mslice_obj\u001b[0m\u001b[0;34m:\u001b[0m \u001b[0mslice\u001b[0m\u001b[0;34m,\u001b[0m \u001b[0maxis\u001b[0m\u001b[0;34m:\u001b[0m \u001b[0mint\u001b[0m\u001b[0;34m)\u001b[0m\u001b[0;34m:\u001b[0m\u001b[0;34m\u001b[0m\u001b[0;34m\u001b[0m\u001b[0m\n",
            "\u001b[0;32m/usr/local/lib/python3.7/dist-packages/pandas/core/indexing.py\u001b[0m in \u001b[0;36m_get_label\u001b[0;34m(self, label, axis)\u001b[0m\n\u001b[1;32m   1057\u001b[0m     \u001b[0;32mdef\u001b[0m \u001b[0m_get_label\u001b[0m\u001b[0;34m(\u001b[0m\u001b[0mself\u001b[0m\u001b[0;34m,\u001b[0m \u001b[0mlabel\u001b[0m\u001b[0;34m,\u001b[0m \u001b[0maxis\u001b[0m\u001b[0;34m:\u001b[0m \u001b[0mint\u001b[0m\u001b[0;34m)\u001b[0m\u001b[0;34m:\u001b[0m\u001b[0;34m\u001b[0m\u001b[0;34m\u001b[0m\u001b[0m\n\u001b[1;32m   1058\u001b[0m         \u001b[0;31m# GH#5667 this will fail if the label is not present in the axis.\u001b[0m\u001b[0;34m\u001b[0m\u001b[0;34m\u001b[0m\u001b[0;34m\u001b[0m\u001b[0m\n\u001b[0;32m-> 1059\u001b[0;31m         \u001b[0;32mreturn\u001b[0m \u001b[0mself\u001b[0m\u001b[0;34m.\u001b[0m\u001b[0mobj\u001b[0m\u001b[0;34m.\u001b[0m\u001b[0mxs\u001b[0m\u001b[0;34m(\u001b[0m\u001b[0mlabel\u001b[0m\u001b[0;34m,\u001b[0m \u001b[0maxis\u001b[0m\u001b[0;34m=\u001b[0m\u001b[0maxis\u001b[0m\u001b[0;34m)\u001b[0m\u001b[0;34m\u001b[0m\u001b[0;34m\u001b[0m\u001b[0m\n\u001b[0m\u001b[1;32m   1060\u001b[0m \u001b[0;34m\u001b[0m\u001b[0m\n\u001b[1;32m   1061\u001b[0m     \u001b[0;32mdef\u001b[0m \u001b[0m_handle_lowerdim_multi_index_axis0\u001b[0m\u001b[0;34m(\u001b[0m\u001b[0mself\u001b[0m\u001b[0;34m,\u001b[0m \u001b[0mtup\u001b[0m\u001b[0;34m:\u001b[0m \u001b[0mTuple\u001b[0m\u001b[0;34m)\u001b[0m\u001b[0;34m:\u001b[0m\u001b[0;34m\u001b[0m\u001b[0;34m\u001b[0m\u001b[0m\n",
            "\u001b[0;32m/usr/local/lib/python3.7/dist-packages/pandas/core/generic.py\u001b[0m in \u001b[0;36mxs\u001b[0;34m(self, key, axis, level, drop_level)\u001b[0m\n\u001b[1;32m   3483\u001b[0m \u001b[0;34m\u001b[0m\u001b[0m\n\u001b[1;32m   3484\u001b[0m         \u001b[0;32mif\u001b[0m \u001b[0maxis\u001b[0m \u001b[0;34m==\u001b[0m \u001b[0;36m1\u001b[0m\u001b[0;34m:\u001b[0m\u001b[0;34m\u001b[0m\u001b[0;34m\u001b[0m\u001b[0m\n\u001b[0;32m-> 3485\u001b[0;31m             \u001b[0;32mreturn\u001b[0m \u001b[0mself\u001b[0m\u001b[0;34m[\u001b[0m\u001b[0mkey\u001b[0m\u001b[0;34m]\u001b[0m\u001b[0;34m\u001b[0m\u001b[0;34m\u001b[0m\u001b[0m\n\u001b[0m\u001b[1;32m   3486\u001b[0m \u001b[0;34m\u001b[0m\u001b[0m\n\u001b[1;32m   3487\u001b[0m         \u001b[0mself\u001b[0m\u001b[0;34m.\u001b[0m\u001b[0m_consolidate_inplace\u001b[0m\u001b[0;34m(\u001b[0m\u001b[0;34m)\u001b[0m\u001b[0;34m\u001b[0m\u001b[0;34m\u001b[0m\u001b[0m\n",
            "\u001b[0;32m/usr/local/lib/python3.7/dist-packages/pandas/core/frame.py\u001b[0m in \u001b[0;36m__getitem__\u001b[0;34m(self, key)\u001b[0m\n\u001b[1;32m   2904\u001b[0m             \u001b[0;32mif\u001b[0m \u001b[0mself\u001b[0m\u001b[0;34m.\u001b[0m\u001b[0mcolumns\u001b[0m\u001b[0;34m.\u001b[0m\u001b[0mnlevels\u001b[0m \u001b[0;34m>\u001b[0m \u001b[0;36m1\u001b[0m\u001b[0;34m:\u001b[0m\u001b[0;34m\u001b[0m\u001b[0;34m\u001b[0m\u001b[0m\n\u001b[1;32m   2905\u001b[0m                 \u001b[0;32mreturn\u001b[0m \u001b[0mself\u001b[0m\u001b[0;34m.\u001b[0m\u001b[0m_getitem_multilevel\u001b[0m\u001b[0;34m(\u001b[0m\u001b[0mkey\u001b[0m\u001b[0;34m)\u001b[0m\u001b[0;34m\u001b[0m\u001b[0;34m\u001b[0m\u001b[0m\n\u001b[0;32m-> 2906\u001b[0;31m             \u001b[0mindexer\u001b[0m \u001b[0;34m=\u001b[0m \u001b[0mself\u001b[0m\u001b[0;34m.\u001b[0m\u001b[0mcolumns\u001b[0m\u001b[0;34m.\u001b[0m\u001b[0mget_loc\u001b[0m\u001b[0;34m(\u001b[0m\u001b[0mkey\u001b[0m\u001b[0;34m)\u001b[0m\u001b[0;34m\u001b[0m\u001b[0;34m\u001b[0m\u001b[0m\n\u001b[0m\u001b[1;32m   2907\u001b[0m             \u001b[0;32mif\u001b[0m \u001b[0mis_integer\u001b[0m\u001b[0;34m(\u001b[0m\u001b[0mindexer\u001b[0m\u001b[0;34m)\u001b[0m\u001b[0;34m:\u001b[0m\u001b[0;34m\u001b[0m\u001b[0;34m\u001b[0m\u001b[0m\n\u001b[1;32m   2908\u001b[0m                 \u001b[0mindexer\u001b[0m \u001b[0;34m=\u001b[0m \u001b[0;34m[\u001b[0m\u001b[0mindexer\u001b[0m\u001b[0;34m]\u001b[0m\u001b[0;34m\u001b[0m\u001b[0;34m\u001b[0m\u001b[0m\n",
            "\u001b[0;32m/usr/local/lib/python3.7/dist-packages/pandas/core/indexes/base.py\u001b[0m in \u001b[0;36mget_loc\u001b[0;34m(self, key, method, tolerance)\u001b[0m\n\u001b[1;32m   2898\u001b[0m                 \u001b[0;32mreturn\u001b[0m \u001b[0mself\u001b[0m\u001b[0;34m.\u001b[0m\u001b[0m_engine\u001b[0m\u001b[0;34m.\u001b[0m\u001b[0mget_loc\u001b[0m\u001b[0;34m(\u001b[0m\u001b[0mcasted_key\u001b[0m\u001b[0;34m)\u001b[0m\u001b[0;34m\u001b[0m\u001b[0;34m\u001b[0m\u001b[0m\n\u001b[1;32m   2899\u001b[0m             \u001b[0;32mexcept\u001b[0m \u001b[0mKeyError\u001b[0m \u001b[0;32mas\u001b[0m \u001b[0merr\u001b[0m\u001b[0;34m:\u001b[0m\u001b[0;34m\u001b[0m\u001b[0;34m\u001b[0m\u001b[0m\n\u001b[0;32m-> 2900\u001b[0;31m                 \u001b[0;32mraise\u001b[0m \u001b[0mKeyError\u001b[0m\u001b[0;34m(\u001b[0m\u001b[0mkey\u001b[0m\u001b[0;34m)\u001b[0m \u001b[0;32mfrom\u001b[0m \u001b[0merr\u001b[0m\u001b[0;34m\u001b[0m\u001b[0;34m\u001b[0m\u001b[0m\n\u001b[0m\u001b[1;32m   2901\u001b[0m \u001b[0;34m\u001b[0m\u001b[0m\n\u001b[1;32m   2902\u001b[0m         \u001b[0;32mif\u001b[0m \u001b[0mtolerance\u001b[0m \u001b[0;32mis\u001b[0m \u001b[0;32mnot\u001b[0m \u001b[0;32mNone\u001b[0m\u001b[0;34m:\u001b[0m\u001b[0;34m\u001b[0m\u001b[0;34m\u001b[0m\u001b[0m\n",
            "\u001b[0;31mKeyError\u001b[0m: 'Date'"
          ]
        }
      ]
    },
    {
      "cell_type": "code",
      "metadata": {
        "id": "wy3CX18svrzF"
      },
      "source": [
        "\n",
        "# ## Using model to predict new data\n",
        "\n",
        "# start_date = '2018-06-09'\n",
        "# end_date = '2020-06-11'\n",
        "\n",
        "# newStockQuery = pd.read_csv('/content/gdrive/MyDrive/Stock-Price-Prediction-main/Time Series - Stock Price Prediction - AMZN/AMZN.csv')\n",
        "# newStockQuery['Date'] = pd.to_datetime(newStockQuery['Date'])\n",
        "# #newStockQuery.info()\n",
        "\n",
        "# newStockQuery1 = newStockQuery[(newStockQuery['Date'] > '2018-01-01') & (newStockQuery['Date'] <= '2021-01-01')]\n",
        "# #print(newStockQuery1)\n",
        "\n",
        "# # get closing price \n",
        "# stockData = newStockQuery1.filter(['Close'])\n",
        "\n",
        "# # get last 60 days\n",
        "# last60Days = stockData[-60:].values\n",
        "# normalizedData = min_max_scaler.transform(last60Days)\n",
        "\n",
        "# # prepare new test data, normalize and reshape\n",
        "# X_test = []\n",
        "# X_test.append(normalizedData)\n",
        "\n",
        "# X_test = np.array(X_test)\n",
        "# X_test = np.reshape(X_test,(X_test.shape[0],X_test.shape[1],1))\n",
        "# #X_test = np.reshape(X_test, (5000, -1))\n",
        "# #X_test = np.reshape(X_test, (60, -1))\n",
        "# #print(X_test)\n",
        "\n",
        "# # predict and reverse the normalization\n",
        "# predictedNew = model.predict(X_test) \n",
        "# predictedNew = min_max_scaler.inverse_transform(predictedNew)\n",
        "# print('predicted price: ' + str(predictedNew))\n",
        "\n",
        "# # Real value\n",
        "# realValue = pd.read_csv('/content/gdrive/MyDrive/Stock-Price-Prediction-main/Time Series - Stock Price Prediction - AMZN/AMZN.csv')\n",
        "# print(realValue['Close'])"
      ],
      "execution_count": null,
      "outputs": []
    },
    {
      "cell_type": "markdown",
      "metadata": {
        "id": "5CeClQhUOplQ"
      },
      "source": [
        "**Stock Price Predicting with - The AutoRegressive Integrated Moving Average(ARIMA) model**\n",
        "\n",
        "\n",
        "\n",
        "Time-series & forecasting models\n",
        "Time-series forecasting models are the models that are capable to predict future values based on previously observed values. Time-series forecasting is widely used for non-stationary data. Non-stationary data are called the data whose statistical properties e.g. the mean and standard deviation are not constant over time but instead, these metrics vary over time.\n",
        "These non-stationary input data (used as input to these models) are usually called time-series. Some examples of time-series include the temperature values over time, stock price over time, price of a house over time etc. So, the input is a signal (time-series) that is defined by observations taken sequentially in time.A time series is a sequence of observations taken sequentially in time.\n",
        "\n",
        "\n",
        "1.   AR: < Auto Regressive > means that the model uses the dependent relationship between an observation and some predefined number of lagged observations (also known as “time lag” or “lag”).\n",
        "2.   I:< Integrated > means that the model employs differencing of raw observations (e.g. it subtracts an observation from an observation at the previous time step) in order to make the time-series stationary\n",
        "3.   MA: < Moving Average > means that the model exploits the relationship between the residual error and the observations.\n",
        "\n",
        "**Model parameters**\n",
        "\n",
        "The standard ARIMA models expect as input parameters 3 arguments i.e. p,d,q.\n",
        "p is the number of lag observations.\n",
        "d is the degree of differencing.\n",
        "q is the size/width of the moving average window.\n",
        "\n",
        "\n",
        "\n",
        "\n",
        "\n"
      ]
    },
    {
      "cell_type": "code",
      "metadata": {
        "colab": {
          "base_uri": "https://localhost:8080/"
        },
        "id": "0CpjM8OjP9ZZ",
        "outputId": "0a11154f-03b3-4b19-ff28-56b11d9ba3b9"
      },
      "source": [
        "from pandas.plotting import lag_plot\n",
        "from pandas import datetime\n",
        "from statsmodels.tsa.arima_model import ARIMA\n",
        "from sklearn.metrics import mean_squared_error"
      ],
      "execution_count": 127,
      "outputs": [
        {
          "output_type": "stream",
          "text": [
            "/usr/local/lib/python3.7/dist-packages/ipykernel_launcher.py:2: FutureWarning: The pandas.datetime class is deprecated and will be removed from pandas in a future version. Import from datetime module instead.\n",
            "  \n",
            "/usr/local/lib/python3.7/dist-packages/statsmodels/tools/_testing.py:19: FutureWarning: pandas.util.testing is deprecated. Use the functions in the public API at pandas.testing instead.\n",
            "  import pandas.util.testing as tm\n"
          ],
          "name": "stderr"
        }
      ]
    },
    {
      "cell_type": "code",
      "metadata": {
        "colab": {
          "base_uri": "https://localhost:8080/",
          "height": 295
        },
        "id": "op3_KbU-PmL2",
        "outputId": "8f78f40c-7cf6-4e35-bf35-d94221c28b8f"
      },
      "source": [
        "#Our target variable will be the Close value.\n",
        "#Before building the ARIMA model, let’s see if there is some cross-correlation in out data.\n",
        "plt.figure()\n",
        "lag_plot(rawdata['Open'], lag=3)\n",
        "plt.title('AMAZON Stock - Autocorrelation plot with lag = 3')\n",
        "plt.show()\n"
      ],
      "execution_count": 131,
      "outputs": [
        {
          "output_type": "display_data",
          "data": {
            "image/png": "[encoded data removed]",
            "text/plain": [
              "<Figure size 432x288 with 1 Axes>"
            ]
          },
          "metadata": {
            "tags": [],
            "needs_background": "light"
          }
        }
      ]
    },
    {
      "cell_type": "markdown",
      "metadata": {
        "id": "EwSt0cKkQUaC"
      },
      "source": [
        "We can now confirm that ARIMA is going to be a good model to be applied to this type of data (there is auto-correlation in the data).\n",
        "\n",
        "Finally, let’s plot the stock price evolution over time."
      ]
    },
    {
      "cell_type": "code",
      "metadata": {
        "colab": {
          "base_uri": "https://localhost:8080/",
          "height": 295
        },
        "id": "aEr8TbyUQfC1",
        "outputId": "2336fc6e-4227-47b3-b265-d1b2d97de03d"
      },
      "source": [
        "plt.plot(rawdata.index, rawdata['Close'], color='royalblue')\n",
        "plt.title('Daily close price')\n",
        "plt.xlabel('Day')\n",
        "plt.ylabel('Dollar')\n",
        "plt.show()"
      ],
      "execution_count": 136,
      "outputs": [
        {
          "output_type": "display_data",
          "data": {
            "image/png": "[encoded data removed]",
            "text/plain": [
              "<Figure size 432x288 with 1 Axes>"
            ]
          },
          "metadata": {
            "tags": [],
            "needs_background": "light"
          }
        }
      ]
    },
    {
      "cell_type": "markdown",
      "metadata": {
        "id": "Kym6xV2CSPj3"
      },
      "source": [
        "Build the predictive ARIMA model\n",
        "\n",
        "Next, let’s divide the data into a training (60 % ) and test (40%) set. For this tutorial we select the following ARIMA parameters: p=4, d=1 and q=0."
      ]
    },
    {
      "cell_type": "code",
      "metadata": {
        "colab": {
          "base_uri": "https://localhost:8080/"
        },
        "id": "L1ym98_hSPTy",
        "outputId": "15ba94bb-8f04-4ef1-8391-13a54bbcc87d"
      },
      "source": [
        "train_data, test_data = rawdata[0:int(len(rawdata)*0.6)], rawdata[int(len(rawdata)*0.6):]\n",
        "training_data = train_data['Close'].values\n",
        "test_data = test_data['Close'].values\n",
        "history = [x for x in training_data]\n",
        "model_predictions = []\n",
        "N_test_observations = len(test_data)\n",
        "for time_point in range(N_test_observations):\n",
        "    model = ARIMA(history, order=(4,1,0))\n",
        "    model_fit = model.fit(disp=0)\n",
        "    output = model_fit.forecast()\n",
        "    yhat = output[0]\n",
        "    model_predictions.append(yhat)\n",
        "    true_test_value = test_data[time_point]\n",
        "    history.append(true_test_value)\n",
        "MSE_error = mean_squared_error(test_data, model_predictions)\n",
        "print('Testing Mean Squared Error is {}'.format(MSE_error))"
      ],
      "execution_count": 140,
      "outputs": [
        {
          "output_type": "stream",
          "text": [
            "Testing Mean Squared Error is 1526.2599709816698\n"
          ],
          "name": "stdout"
        }
      ]
    },
    {
      "cell_type": "markdown",
      "metadata": {
        "id": "WG3NmZ6jTc2A"
      },
      "source": [
        "**Summary of the code**\n",
        "We split the training dataset into train and test sets and we use the train set to fit the model, and generate a prediction for each element on the test set.\n",
        "A rolling forecasting procedure is required given the dependence on observations in prior time steps for differencing and the AR model. To this end, we re-create the ARIMA model after each new observation is received.\n",
        "Finally, we manually keep track of all observations in a list called history that is seeded with the training data and to which new observations are appended at each iteration.\n",
        "**Testing Mean Squared Error is 1526.2599709816698**"
      ]
    },
    {
      "cell_type": "markdown",
      "metadata": {
        "id": "eoPAjSH2TkIx"
      },
      "source": [
        "The MSE of the test set is quite large denoting that the precise prediction is a hard problem. However, this is the average squared value across all the test set predictions. Let’s visualize the predictions to understand the performance of the model more."
      ]
    },
    {
      "cell_type": "code",
      "metadata": {
        "colab": {
          "base_uri": "https://localhost:8080/",
          "height": 295
        },
        "id": "YBDuUIzJTqWr",
        "outputId": "047709ba-1a4a-401d-b6aa-08b19388f601"
      },
      "source": [
        "test_set_range = rawdata[int(len(rawdata)*0.6):].index\n",
        "plt.plot(test_set_range, model_predictions, color='blue', marker='o', linestyle='dashed',label='Predicted Price')\n",
        "plt.plot(test_set_range, test_data, color='red', label='Actual Price')\n",
        "plt.title('Amazon Prices Prediction')\n",
        "plt.xlabel('Date')\n",
        "plt.ylabel('Prices')\n",
        "plt.legend()\n",
        "plt.show()"
      ],
      "execution_count": 143,
      "outputs": [
        {
          "output_type": "display_data",
          "data": {
            "image/png": "[encoded data removed]",
            "text/plain": [
              "<Figure size 432x288 with 1 Axes>"
            ]
          },
          "metadata": {
            "tags": [],
            "needs_background": "light"
          }
        }
      ]
    },
    {
      "cell_type": "markdown",
      "metadata": {
        "id": "MbEF51_EVqpX"
      },
      "source": [
        "ARIMA model performance on the test set\n",
        "\n",
        "Our ARIMA model results in appreciable results. This model offers a good prediction accuracy and to be relatively fast compared to other alternatives, in terms of training/fitting time and complexity."
      ]
    }
  ]
}