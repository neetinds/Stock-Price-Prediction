{
  "nbformat": 4,
  "nbformat_minor": 0,
  "metadata": {
    "colab": {
      "name": "Amazon Stock Prediction LSTM.ipynb",
      "provenance": [],
      "collapsed_sections": [],
      "include_colab_link": true
    },
    "kernelspec": {
      "display_name": "Python 3",
      "language": "python",
      "name": "python3"
    },
    "language_info": {
      "codemirror_mode": {
        "name": "ipython",
        "version": 3
      },
      "file_extension": ".py",
      "mimetype": "text/x-python",
      "name": "python",
      "nbconvert_exporter": "python",
      "pygments_lexer": "ipython3",
      "version": "3.6.3"
    }
  },
  "cells": [
    {
      "cell_type": "markdown",
      "metadata": {
        "id": "view-in-github",
        "colab_type": "text"
      },
      "source": [
        "<a href=\"https://colab.research.google.com/github/neetinds/Stock-Price-Prediction/blob/main/Amazon_Stock_Prediction_LSTM%20%26%20ARIMA.ipynb\" target=\"_parent\"><img src=\"https://colab.research.google.com/assets/colab-badge.svg\" alt=\"Open In Colab\"/></a>"
      ]
    },
    {
      "cell_type": "markdown",
      "metadata": {
        "id": "W6DPEQYdI6Wp"
      },
      "source": [
        "# Stock Price Predicting with LSTM\n",
        "                                                                        \n",
        "\n",
        "Neural Networks have been demonstrated to be very powerful in solving the real-world problems like imaging and natural language processing. Interested in stock price movements, I am therefore motivated and curious about employing nerual nets to approach financial time series problems of its kind.\n",
        "\n",
        "Unlike common regression predictions, time series problems are more difficult due to sequence dependence within the input data variables. Among various neural nets, Long Short-Term Memory (***LSTM***), a type of recurrent neural network, has been proven to take care of complex time series predictions. So I implement LSTM to Amazon's stock prices (***AMZN***) "
      ]
    },
    {
      "cell_type": "code",
      "metadata": {
        "id": "6V9WVyoWI6Wr",
        "scrolled": true
      },
      "source": [
        "import numpy as np\n",
        "import pandas as pd\n",
        "import matplotlib.pyplot as plt\n",
        "from datetime import datetime\n",
        "from sklearn import preprocessing\n",
        "import keras\n",
        "from keras.models import Sequential\n",
        "from keras.layers.core import Dense, Dropout, Activation\n",
        "from keras.layers.recurrent import LSTM\n",
        "from keras.models import load_model\n",
        "from keras import backend as K\n",
        "import math, time\n",
        "import itertools\n",
        "from math import sqrt"
      ],
      "execution_count": 72,
      "outputs": []
    },
    {
      "cell_type": "code",
      "metadata": {
        "colab": {
          "base_uri": "https://localhost:8080/"
        },
        "collapsed": true,
        "id": "VpmKvwEfI6Ws",
        "outputId": "a0a2b995-2fe1-433a-b253-f713404b4b4d"
      },
      "source": [
        "from google.colab import drive\n",
        "drive.mount('/content/gdrive')"
      ],
      "execution_count": 74,
      "outputs": [
        {
          "output_type": "stream",
          "text": [
            "Drive already mounted at /content/gdrive; to attempt to forcibly remount, call drive.mount(\"/content/gdrive\", force_remount=True).\n"
          ],
          "name": "stdout"
        }
      ]
    },
    {
      "cell_type": "markdown",
      "metadata": {
        "id": "UwUJD-hQI6Wt"
      },
      "source": [
        "## 1. Load Data\n",
        "\n",
        "Get up to five-year daily historical stock prices & volumes data from https://finance.yahoo.com/quote/AMZN/history?p=AMZN. \n",
        "\n",
        "Datasets consist of following columns:\n",
        "- **date** Time stamp of when data was collected, being used as index column;\n",
        "- **volume** The number of shares traded in AMZN during a given trading day;\n",
        "- **open** The price at AMZN upon the opening of an exchange on a given trading day;\n",
        "- **high** The highest price at which AMZN traded during the course of the day;\n",
        "- **low** The lowest price at which AMZN traded during the course of the day;\n",
        "- **close** The final price at which AMZN traded during the course of the day; it is also selected as our target data.\n",
        "\n",
        "Plus, add a new feature based on the columns above:\n",
        "- **pct** The percentage of change of close price compared to previous trading day."
      ]
    },
    {
      "cell_type": "code",
      "metadata": {
        "colab": {
          "base_uri": "https://localhost:8080/",
          "height": 269
        },
        "id": "nbvqqhGuI6Wt",
        "scrolled": true,
        "outputId": "17e47a1a-9194-4449-b683-99c50a929d2f"
      },
      "source": [
        "rawdata = pd.read_csv('/content/gdrive/MyDrive/Stock-Price-Prediction-main/Time Series - Stock Price Prediction - AMZN/AMZN.csv')\n",
        "## Reformat date\n",
        "rawdata['Date'] = pd.to_datetime(rawdata['Date'] ,errors ='coerce')\n",
        "rawdata['Date'] = pd.to_datetime(rawdata['Date'], format='%Y-%m-%d')\n",
        "## Sort date by date\n",
        "rawdata.sort_values(by = 'Date', ascending=True, inplace=True)\n",
        "## Percentage Change\n",
        "rawdata['Pct'] = rawdata['Close'].pct_change()\n",
        "rawdata.dropna(inplace=True)\n",
        "## Describe data\n",
        "rawdata = rawdata[['Date', 'Volume', 'Open', 'High', 'Low', 'Pct', 'Close']]\n",
        "rawdata.set_index('Date', inplace=True)\n",
        "print('Historical stock price data for', rawdata.shape[0], 'days')\n",
        "print('from', rawdata.index[0], 'to', rawdata.index[rawdata.shape[0]-1])\n",
        "rawdata.head()"
      ],
      "execution_count": 75,
      "outputs": [
        {
          "output_type": "stream",
          "text": [
            "Historical stock price data for 2517 days\n",
            "from 2010-12-07 00:00:00 to 2020-12-04 00:00:00\n"
          ],
          "name": "stdout"
        },
        {
          "output_type": "execute_result",
          "data": {
            "text/html": [
              "<div>\n",
              "<style scoped>\n",
              "    .dataframe tbody tr th:only-of-type {\n",
              "        vertical-align: middle;\n",
              "    }\n",
              "\n",
              "    .dataframe tbody tr th {\n",
              "        vertical-align: top;\n",
              "    }\n",
              "\n",
              "    .dataframe thead th {\n",
              "        text-align: right;\n",
              "    }\n",
              "</style>\n",
              "<table border=\"1\" class=\"dataframe\">\n",
              "  <thead>\n",
              "    <tr style=\"text-align: right;\">\n",
              "      <th></th>\n",
              "      <th>Volume</th>\n",
              "      <th>Open</th>\n",
              "      <th>High</th>\n",
              "      <th>Low</th>\n",
              "      <th>Pct</th>\n",
              "      <th>Close</th>\n",
              "    </tr>\n",
              "    <tr>\n",
              "      <th>Date</th>\n",
              "      <th></th>\n",
              "      <th></th>\n",
              "      <th></th>\n",
              "      <th></th>\n",
              "      <th></th>\n",
              "      <th></th>\n",
              "    </tr>\n",
              "  </thead>\n",
              "  <tbody>\n",
              "    <tr>\n",
              "      <th>2010-12-07</th>\n",
              "      <td>5077100</td>\n",
              "      <td>180.500000</td>\n",
              "      <td>181.470001</td>\n",
              "      <td>176.570007</td>\n",
              "      <td>-0.007189</td>\n",
              "      <td>176.770004</td>\n",
              "    </tr>\n",
              "    <tr>\n",
              "      <th>2010-12-08</th>\n",
              "      <td>3726900</td>\n",
              "      <td>177.490005</td>\n",
              "      <td>178.160004</td>\n",
              "      <td>175.199997</td>\n",
              "      <td>-0.002715</td>\n",
              "      <td>176.289993</td>\n",
              "    </tr>\n",
              "    <tr>\n",
              "      <th>2010-12-09</th>\n",
              "      <td>4555500</td>\n",
              "      <td>177.770004</td>\n",
              "      <td>178.110001</td>\n",
              "      <td>173.800003</td>\n",
              "      <td>-0.008168</td>\n",
              "      <td>174.850006</td>\n",
              "    </tr>\n",
              "    <tr>\n",
              "      <th>2010-12-10</th>\n",
              "      <td>3565500</td>\n",
              "      <td>174.880005</td>\n",
              "      <td>175.949997</td>\n",
              "      <td>173.360001</td>\n",
              "      <td>0.004404</td>\n",
              "      <td>175.619995</td>\n",
              "    </tr>\n",
              "    <tr>\n",
              "      <th>2010-12-13</th>\n",
              "      <td>4202500</td>\n",
              "      <td>176.330002</td>\n",
              "      <td>177.940002</td>\n",
              "      <td>173.729996</td>\n",
              "      <td>-0.007801</td>\n",
              "      <td>174.250000</td>\n",
              "    </tr>\n",
              "  </tbody>\n",
              "</table>\n",
              "</div>"
            ],
            "text/plain": [
              "             Volume        Open        High         Low       Pct       Close\n",
              "Date                                                                         \n",
              "2010-12-07  5077100  180.500000  181.470001  176.570007 -0.007189  176.770004\n",
              "2010-12-08  3726900  177.490005  178.160004  175.199997 -0.002715  176.289993\n",
              "2010-12-09  4555500  177.770004  178.110001  173.800003 -0.008168  174.850006\n",
              "2010-12-10  3565500  174.880005  175.949997  173.360001  0.004404  175.619995\n",
              "2010-12-13  4202500  176.330002  177.940002  173.729996 -0.007801  174.250000"
            ]
          },
          "metadata": {
            "tags": []
          },
          "execution_count": 75
        }
      ]
    },
    {
      "cell_type": "markdown",
      "metadata": {
        "id": "kfROUMm3I6Wt"
      },
      "source": [
        "#### Visualize the Ten-year daily close price data"
      ]
    },
    {
      "cell_type": "code",
      "metadata": {
        "colab": {
          "base_uri": "https://localhost:8080/",
          "height": 295
        },
        "id": "ZKVcthjPI6Wu",
        "scrolled": false,
        "outputId": "8c618f84-7e5a-45f9-d89d-decf42a14d20"
      },
      "source": [
        "plt.plot(rawdata.index, rawdata['Close'], color='royalblue')\n",
        "plt.title('Daily close price')\n",
        "plt.xlabel('Day')\n",
        "plt.ylabel('Dollar')\n",
        "plt.show()"
      ],
      "execution_count": 76,
      "outputs": [
        {
          "output_type": "display_data",
          "data": {
            "image/png": "[encoded data removed]",
            "text/plain": [
              "<Figure size 432x288 with 1 Axes>"
            ]
          },
          "metadata": {
            "tags": [],
            "needs_background": "light"
          }
        }
      ]
    },
    {
      "cell_type": "markdown",
      "metadata": {
        "id": "SEsJofDnI6Wu"
      },
      "source": [
        "## 2. Data Preprocessing\n",
        "\n",
        "### 2.1 Scale features\n",
        "\n",
        "The input and output data that go into model need to be scaled. Use preprocessing.MinMaxScaler() function in scikit-learn library to scale data to the range of 0-1.\n",
        "\n",
        "#### Scaled data"
      ]
    },
    {
      "cell_type": "code",
      "metadata": {
        "collapsed": true,
        "id": "ZAYxLwuWI6Wu"
      },
      "source": [
        "data=rawdata.copy()"
      ],
      "execution_count": 77,
      "outputs": []
    },
    {
      "cell_type": "code",
      "metadata": {
        "colab": {
          "base_uri": "https://localhost:8080/",
          "height": 235
        },
        "id": "9oqJHwwOI6Wu",
        "scrolled": true,
        "outputId": "877de2a9-9a88-44ed-a55a-e2da8cb1177b"
      },
      "source": [
        "min_max_scaler = preprocessing.MinMaxScaler()\n",
        "data['Volume'] = min_max_scaler.fit_transform(data['Volume'].values.reshape(-1,1))\n",
        "data['Open'] = min_max_scaler.fit_transform(data['Open'].values.reshape(-1,1))\n",
        "data['High'] = min_max_scaler.fit_transform(data['High'].values.reshape(-1,1))\n",
        "data['Low'] = min_max_scaler.fit_transform(data['Low'].values.reshape(-1,1))\n",
        "data['Pct'] = min_max_scaler.fit_transform(data['Pct'].values.reshape(-1,1))\n",
        "data['Close'] = min_max_scaler.fit_transform(data['Close'].values.reshape(-1,1))\n",
        "\n",
        "data.head()"
      ],
      "execution_count": 78,
      "outputs": [
        {
          "output_type": "execute_result",
          "data": {
            "text/html": [
              "<div>\n",
              "<style scoped>\n",
              "    .dataframe tbody tr th:only-of-type {\n",
              "        vertical-align: middle;\n",
              "    }\n",
              "\n",
              "    .dataframe tbody tr th {\n",
              "        vertical-align: top;\n",
              "    }\n",
              "\n",
              "    .dataframe thead th {\n",
              "        text-align: right;\n",
              "    }\n",
              "</style>\n",
              "<table border=\"1\" class=\"dataframe\">\n",
              "  <thead>\n",
              "    <tr style=\"text-align: right;\">\n",
              "      <th></th>\n",
              "      <th>Volume</th>\n",
              "      <th>Open</th>\n",
              "      <th>High</th>\n",
              "      <th>Low</th>\n",
              "      <th>Pct</th>\n",
              "      <th>Close</th>\n",
              "    </tr>\n",
              "    <tr>\n",
              "      <th>Date</th>\n",
              "      <th></th>\n",
              "      <th></th>\n",
              "      <th></th>\n",
              "      <th></th>\n",
              "      <th></th>\n",
              "      <th></th>\n",
              "    </tr>\n",
              "  </thead>\n",
              "  <tbody>\n",
              "    <tr>\n",
              "      <th>2010-12-07</th>\n",
              "      <td>0.180442</td>\n",
              "      <td>0.005703</td>\n",
              "      <td>0.005291</td>\n",
              "      <td>0.004804</td>\n",
              "      <td>0.420312</td>\n",
              "      <td>0.004688</td>\n",
              "    </tr>\n",
              "    <tr>\n",
              "      <th>2010-12-08</th>\n",
              "      <td>0.122376</td>\n",
              "      <td>0.004814</td>\n",
              "      <td>0.004314</td>\n",
              "      <td>0.004393</td>\n",
              "      <td>0.436063</td>\n",
              "      <td>0.004545</td>\n",
              "    </tr>\n",
              "    <tr>\n",
              "      <th>2010-12-09</th>\n",
              "      <td>0.158010</td>\n",
              "      <td>0.004897</td>\n",
              "      <td>0.004300</td>\n",
              "      <td>0.003972</td>\n",
              "      <td>0.416864</td>\n",
              "      <td>0.004118</td>\n",
              "    </tr>\n",
              "    <tr>\n",
              "      <th>2010-12-10</th>\n",
              "      <td>0.115435</td>\n",
              "      <td>0.004043</td>\n",
              "      <td>0.003662</td>\n",
              "      <td>0.003839</td>\n",
              "      <td>0.461128</td>\n",
              "      <td>0.004347</td>\n",
              "    </tr>\n",
              "    <tr>\n",
              "      <th>2010-12-13</th>\n",
              "      <td>0.142829</td>\n",
              "      <td>0.004472</td>\n",
              "      <td>0.004249</td>\n",
              "      <td>0.003951</td>\n",
              "      <td>0.418158</td>\n",
              "      <td>0.003940</td>\n",
              "    </tr>\n",
              "  </tbody>\n",
              "</table>\n",
              "</div>"
            ],
            "text/plain": [
              "              Volume      Open      High       Low       Pct     Close\n",
              "Date                                                                  \n",
              "2010-12-07  0.180442  0.005703  0.005291  0.004804  0.420312  0.004688\n",
              "2010-12-08  0.122376  0.004814  0.004314  0.004393  0.436063  0.004545\n",
              "2010-12-09  0.158010  0.004897  0.004300  0.003972  0.416864  0.004118\n",
              "2010-12-10  0.115435  0.004043  0.003662  0.003839  0.461128  0.004347\n",
              "2010-12-13  0.142829  0.004472  0.004249  0.003951  0.418158  0.003940"
            ]
          },
          "metadata": {
            "tags": []
          },
          "execution_count": 78
        }
      ]
    },
    {
      "cell_type": "markdown",
      "metadata": {
        "id": "cgrnc6QRI6Wv"
      },
      "source": [
        "### 2.2 Split data to training set and test set\n",
        "\n",
        "Split data into training (60%) and test sets (40%)."
      ]
    },
    {
      "cell_type": "code",
      "metadata": {
        "collapsed": true,
        "id": "trv5MDuOI6Wv"
      },
      "source": [
        "data = data.values\n",
        "df = []\n",
        "for index in range(len(data) - 31):\n",
        "    df.append(data[index: index + 31])\n",
        "df = np.array(df)"
      ],
      "execution_count": 79,
      "outputs": []
    },
    {
      "cell_type": "code",
      "metadata": {
        "colab": {
          "base_uri": "https://localhost:8080/"
        },
        "id": "pdSVNVYvI6Wv",
        "scrolled": true,
        "outputId": "fdd0be06-60fc-47e1-ee99-ca20a9c130b6"
      },
      "source": [
        "splitRow = round(0.6 * df.shape[0])\n",
        "\n",
        "## Training (60%)\n",
        "train = df[:int(splitRow), :]\n",
        "X_train = train[:, :-1] # all data until day 30\n",
        "y_train = train[:, -1][:,-1] # day 31 close price\n",
        "print('Training set:', train.shape[0], 'obs')\n",
        "\n",
        "## Test (40%)\n",
        "test = df[int(splitRow):, :]\n",
        "X_test = test[:, :-1] # all data until day 30\n",
        "y_test = test[:, -1][:,-1] # day 31 close price\n",
        "print('Test set:', test.shape[0], 'obs')"
      ],
      "execution_count": 80,
      "outputs": [
        {
          "output_type": "stream",
          "text": [
            "Training set: 1492 obs\n",
            "Test set: 994 obs\n"
          ],
          "name": "stdout"
        }
      ]
    },
    {
      "cell_type": "code",
      "metadata": {
        "colab": {
          "base_uri": "https://localhost:8080/",
          "height": 295
        },
        "id": "E2EVX9RkI6Wv",
        "outputId": "c76f8423-8c3f-48d8-a2f9-8ac566bbed65"
      },
      "source": [
        "rawtrain = rawdata.iloc[31:1506]\n",
        "rawtest = rawdata.iloc[1506:2500]\n",
        "plt.plot(rawtrain.index, rawtrain['Close'], color='royalblue', label='Training')\n",
        "plt.plot(rawtest.index, rawtest['Close'], color='mediumseagreen', label='Test')\n",
        "#plt.xticks([220, 473, 724, 976], ('2014', '2015', '2016', '2017'))\n",
        "plt.legend(loc='upper left')\n",
        "plt.title('Daily close price')\n",
        "plt.xlabel('Day')\n",
        "plt.ylabel('Dollar')\n",
        "plt.show()"
      ],
      "execution_count": 81,
      "outputs": [
        {
          "output_type": "display_data",
          "data": {
            "image/png": "[encoded data removed]",
            "text/plain": [
              "<Figure size 432x288 with 1 Axes>"
            ]
          },
          "metadata": {
            "tags": [],
            "needs_background": "light"
          }
        }
      ]
    },
    {
      "cell_type": "markdown",
      "metadata": {
        "id": "VYGU1GxBI6Ww"
      },
      "source": [
        "## 3. Modeling\n",
        "\n",
        "Now predict the close price for day $m$ based on data observed in the past 30 days $\\{m-30, m-29, ...m-1\\}$.\n",
        "\n",
        "### 3.1 Define Network\n",
        "\n",
        "Define a **Sequential Model** and add:\n",
        "- input layer with dimension (30, 6);\n",
        "- two LSTM layers with 256 neurons;\n",
        "- one hidden layers with 32 neurons with 'Relu';\n",
        "- one linear output layer."
      ]
    },
    {
      "cell_type": "code",
      "metadata": {
        "collapsed": true,
        "id": "iJ7NnlYGI6Ww"
      },
      "source": [
        "neurons = [256, 256, 32, 1]\n",
        "shape = [30, 6, 1]\n",
        "dropout = 0.3\n",
        "decay = 0.5\n",
        "epochs = 90"
      ],
      "execution_count": 82,
      "outputs": []
    },
    {
      "cell_type": "code",
      "metadata": {
        "colab": {
          "base_uri": "https://localhost:8080/"
        },
        "id": "vurstAJQI6Ww",
        "outputId": "15b8a38a-44ac-4f48-f7b0-944974b2f49c"
      },
      "source": [
        "model = Sequential()\n",
        "\n",
        "model.add(LSTM(neurons[0], input_shape=(shape[0], shape[1]), return_sequences=True))\n",
        "model.add(Dropout(dropout))\n",
        "\n",
        "model.add(LSTM(neurons[1], input_shape=(shape[0], shape[1]), return_sequences=False))\n",
        "model.add(Dropout(dropout))\n",
        "\n",
        "model.add(Dense(neurons[2],kernel_initializer=\"uniform\",activation='relu'))\n",
        "model.add(Dense(neurons[3],kernel_initializer=\"uniform\",activation='linear'))\n",
        "\n",
        "model.summary()"
      ],
      "execution_count": 83,
      "outputs": [
        {
          "output_type": "stream",
          "text": [
            "Model: \"sequential_2\"\n",
            "_________________________________________________________________\n",
            "Layer (type)                 Output Shape              Param #   \n",
            "=================================================================\n",
            "lstm_4 (LSTM)                (None, 30, 256)           269312    \n",
            "_________________________________________________________________\n",
            "dropout_4 (Dropout)          (None, 30, 256)           0         \n",
            "_________________________________________________________________\n",
            "lstm_5 (LSTM)                (None, 256)               525312    \n",
            "_________________________________________________________________\n",
            "dropout_5 (Dropout)          (None, 256)               0         \n",
            "_________________________________________________________________\n",
            "dense_4 (Dense)              (None, 32)                8224      \n",
            "_________________________________________________________________\n",
            "dense_5 (Dense)              (None, 1)                 33        \n",
            "=================================================================\n",
            "Total params: 802,881\n",
            "Trainable params: 802,881\n",
            "Non-trainable params: 0\n",
            "_________________________________________________________________\n"
          ],
          "name": "stdout"
        }
      ]
    },
    {
      "cell_type": "markdown",
      "metadata": {
        "id": "hRjHkv8EI6Ww"
      },
      "source": [
        "### 3.2 Compile Network\n",
        "\n",
        "Before training, configure the learning process by specifying:\n",
        "\n",
        "- **Optimizer** to be 'adam';\n",
        "\n",
        "- **Loss function** to be 'mse';\n",
        "\n",
        "- **Evaluation metric** to be 'accuracy'."
      ]
    },
    {
      "cell_type": "code",
      "metadata": {
        "collapsed": true,
        "id": "TUKyYPIwI6Ww"
      },
      "source": [
        "adam = keras.optimizers.Adam(decay=decay)\n",
        "model.compile(loss='mse',optimizer='adam', metrics=['accuracy'])"
      ],
      "execution_count": 84,
      "outputs": []
    },
    {
      "cell_type": "markdown",
      "metadata": {
        "id": "yov_Nm0LI6Wx"
      },
      "source": [
        "### 3.3 Train Network\n",
        "\n",
        "Fit the model to training data to learn the parameters.\n"
      ]
    },
    {
      "cell_type": "code",
      "metadata": {
        "colab": {
          "base_uri": "https://localhost:8080/"
        },
        "id": "HSmp0fvJI6Wx",
        "scrolled": true,
        "outputId": "7e149b0e-0427-4bbd-a4b1-10086403be87"
      },
      "source": [
        "model.fit(X_train, y_train,\n",
        "    batch_size=512,\n",
        "    epochs=epochs,\n",
        "    validation_split=0.2,\n",
        "    verbose=0)"
      ],
      "execution_count": 85,
      "outputs": [
        {
          "output_type": "execute_result",
          "data": {
            "text/plain": [
              "<keras.callbacks.History at 0x7f522cf28e10>"
            ]
          },
          "metadata": {
            "tags": []
          },
          "execution_count": 85
        }
      ]
    },
    {
      "cell_type": "markdown",
      "metadata": {
        "id": "TogHBlaAI6Wx"
      },
      "source": [
        "### 3.4 Evaluate Network\n",
        "\n",
        "Evaluate model on the test set"
      ]
    },
    {
      "cell_type": "code",
      "metadata": {
        "colab": {
          "base_uri": "https://localhost:8080/"
        },
        "id": "XJyPTmNEI6Wx",
        "outputId": "a5088ead-f79f-44a5-ff12-24cc29f4e122"
      },
      "source": [
        "mse, acc = model.evaluate(X_test, y_test)\n",
        "print(\"mean square error = \", mse)"
      ],
      "execution_count": 86,
      "outputs": [
        {
          "output_type": "stream",
          "text": [
            "32/32 [==============================] - 2s 68ms/step - loss: 0.0088 - accuracy: 0.0010\n",
            "mean square error =  0.00878224615007639\n"
          ],
          "name": "stdout"
        }
      ]
    },
    {
      "cell_type": "markdown",
      "metadata": {
        "id": "N3FOmpkgI6Wx"
      },
      "source": [
        "## 4. Results\n",
        "\n",
        "The model shows that LSTM can capture the pattern of Amazon's stock prices. However, there are some gaps between predicted and true movements. We can certainly improve the performance by further tuning the model, but the assumption of the stable status in stock market mechanism makes it hard to get significantly better results. \n",
        "\n",
        "Since investor behavior is highly impacted by various factors, the future idea is to add sentiment analysis to better understand investors' pyschology. Therefore, we can capture more price catalysts in the market and achieve a better prediction with a holistic view. "
      ]
    },
    {
      "cell_type": "code",
      "metadata": {
        "colab": {
          "base_uri": "https://localhost:8080/"
        },
        "id": "wzKJCcVKtsfV",
        "outputId": "8c07ab6d-cc73-4f62-fbb7-b0012457cefd"
      },
      "source": [
        "## Predictions using LSTM: Testing Data\n",
        "predictions = model.predict(X_test)\n",
        "predictions = min_max_scaler.inverse_transform(predictions)\n",
        "\n",
        "# Calculating RMSE\n",
        "rmse =np.sqrt(np.mean(((predictions- y_test)**2)))\n",
        "rmse"
      ],
      "execution_count": 88,
      "outputs": [
        {
          "output_type": "execute_result",
          "data": {
            "text/plain": [
              "1612.4163623199152"
            ]
          },
          "metadata": {
            "tags": []
          },
          "execution_count": 88
        }
      ]
    },
    {
      "cell_type": "code",
      "metadata": {
        "collapsed": true,
        "id": "X3XC5Ph7I6Wx"
      },
      "source": [
        "pred = model.predict(X_test)\n",
        "pred = min_max_scaler.inverse_transform(pred)\n",
        "\n",
        "y_test = y_test.reshape(-1, 1)\n",
        "y_test = min_max_scaler.inverse_transform(y_test)\n",
        "\n",
        "y_test = [i[0] for i in y_test]\n",
        "pred = [i[0] for i in pred]\n",
        "\n",
        "respred = rawtest.copy()\n",
        "respred['close'] = pred"
      ],
      "execution_count": 89,
      "outputs": []
    },
    {
      "cell_type": "code",
      "metadata": {
        "colab": {
          "base_uri": "https://localhost:8080/",
          "height": 295
        },
        "id": "Q3HW6KsfI6Wy",
        "scrolled": true,
        "outputId": "5d973818-a9df-4ea8-c652-b864dd645c14"
      },
      "source": [
        "plt.plot(rawtrain.index, rawtrain['Close'], color='royalblue', label='Training')\n",
        "plt.plot(rawtest.index, rawtest['Close'], color='red', label='Test')\n",
        "plt.plot(rawtest.index, respred['Close'], color='yellow', label='Predicted')\n",
        "#plt.xticks([20, 50, 100, 220, 473, 724, 976], ('2011', '2013', '2015', '2017', '2019','2021'))\n",
        "plt.legend(loc='upper left')\n",
        "plt.title('Daily close price')\n",
        "plt.xlabel('Day')\n",
        "plt.ylabel('Dollar')\n",
        "plt.show()"
      ],
      "execution_count": 90,
      "outputs": [
        {
          "output_type": "display_data",
          "data": {
            "image/png": "[encoded data removed]",
            "text/plain": [
              "<Figure size 432x288 with 1 Axes>"
            ]
          },
          "metadata": {
            "tags": [],
            "needs_background": "light"
          }
        }
      ]
    },
    {
      "cell_type": "code",
      "metadata": {
        "id": "wy3CX18svrzF"
      },
      "source": [
        "\n",
        "# ## Using model to predict new data\n",
        "\n",
        "# start_date = '2018-06-09'\n",
        "# end_date = '2020-06-11'\n",
        "\n",
        "# newStockQuery = pd.read_csv('/content/gdrive/MyDrive/Stock-Price-Prediction-main/Time Series - Stock Price Prediction - AMZN/AMZN.csv')\n",
        "# newStockQuery['Date'] = pd.to_datetime(newStockQuery['Date'])\n",
        "# #newStockQuery.info()\n",
        "\n",
        "# newStockQuery1 = newStockQuery[(newStockQuery['Date'] > '2018-01-01') & (newStockQuery['Date'] <= '2021-01-01')]\n",
        "# #print(newStockQuery1)\n",
        "\n",
        "# # get closing price \n",
        "# stockData = newStockQuery1.filter(['Close'])\n",
        "\n",
        "# # get last 60 days\n",
        "# last60Days = stockData[-60:].values\n",
        "# normalizedData = min_max_scaler.transform(last60Days)\n",
        "\n",
        "# # prepare new test data, normalize and reshape\n",
        "# X_test = []\n",
        "# X_test.append(normalizedData)\n",
        "\n",
        "# X_test = np.array(X_test)\n",
        "# X_test = np.reshape(X_test,(X_test.shape[0],X_test.shape[1],1))\n",
        "# #X_test = np.reshape(X_test, (5000, -1))\n",
        "# #X_test = np.reshape(X_test, (60, -1))\n",
        "# #print(X_test)\n",
        "\n",
        "# # predict and reverse the normalization\n",
        "# predictedNew = model.predict(X_test) \n",
        "# predictedNew = min_max_scaler.inverse_transform(predictedNew)\n",
        "# print('predicted price: ' + str(predictedNew))\n",
        "\n",
        "# # Real value\n",
        "# realValue = pd.read_csv('/content/gdrive/MyDrive/Stock-Price-Prediction-main/Time Series - Stock Price Prediction - AMZN/AMZN.csv')\n",
        "# print(realValue['Close'])"
      ],
      "execution_count": null,
      "outputs": []
    },
    {
      "cell_type": "markdown",
      "metadata": {
        "id": "5CeClQhUOplQ"
      },
      "source": [
        "**Stock Price Predicting with - The AutoRegressive Integrated Moving Average(ARIMA) model**\n",
        "\n",
        "\n",
        "\n",
        "Time-series & forecasting models\n",
        "Time-series forecasting models are the models that are capable to predict future values based on previously observed values. Time-series forecasting is widely used for non-stationary data. Non-stationary data are called the data whose statistical properties e.g. the mean and standard deviation are not constant over time but instead, these metrics vary over time.\n",
        "These non-stationary input data (used as input to these models) are usually called time-series. Some examples of time-series include the temperature values over time, stock price over time, price of a house over time etc. So, the input is a signal (time-series) that is defined by observations taken sequentially in time.A time series is a sequence of observations taken sequentially in time.\n",
        "\n",
        "\n",
        "1.   AR: < Auto Regressive > means that the model uses the dependent relationship between an observation and some predefined number of lagged observations (also known as “time lag” or “lag”).\n",
        "2.   I:< Integrated > means that the model employs differencing of raw observations (e.g. it subtracts an observation from an observation at the previous time step) in order to make the time-series stationary\n",
        "3.   MA: < Moving Average > means that the model exploits the relationship between the residual error and the observations.\n",
        "\n",
        "**Model parameters**\n",
        "\n",
        "The standard ARIMA models expect as input parameters 3 arguments i.e. p,d,q.\n",
        "p is the number of lag observations.\n",
        "d is the degree of differencing.\n",
        "q is the size/width of the moving average window.\n",
        "\n",
        "\n",
        "\n",
        "\n",
        "\n"
      ]
    },
    {
      "cell_type": "code",
      "metadata": {
        "colab": {
          "base_uri": "https://localhost:8080/"
        },
        "id": "0CpjM8OjP9ZZ",
        "outputId": "0a11154f-03b3-4b19-ff28-56b11d9ba3b9"
      },
      "source": [
        "from pandas.plotting import lag_plot\n",
        "from pandas import datetime\n",
        "from statsmodels.tsa.arima_model import ARIMA\n",
        "from sklearn.metrics import mean_squared_error"
      ],
      "execution_count": 127,
      "outputs": [
        {
          "output_type": "stream",
          "text": [
            "/usr/local/lib/python3.7/dist-packages/ipykernel_launcher.py:2: FutureWarning: The pandas.datetime class is deprecated and will be removed from pandas in a future version. Import from datetime module instead.\n",
            "  \n",
            "/usr/local/lib/python3.7/dist-packages/statsmodels/tools/_testing.py:19: FutureWarning: pandas.util.testing is deprecated. Use the functions in the public API at pandas.testing instead.\n",
            "  import pandas.util.testing as tm\n"
          ],
          "name": "stderr"
        }
      ]
    },
    {
      "cell_type": "code",
      "metadata": {
        "colab": {
          "base_uri": "https://localhost:8080/",
          "height": 295
        },
        "id": "op3_KbU-PmL2",
        "outputId": "8f78f40c-7cf6-4e35-bf35-d94221c28b8f"
      },
      "source": [
        "#Our target variable will be the Close value.\n",
        "#Before building the ARIMA model, let’s see if there is some cross-correlation in out data.\n",
        "plt.figure()\n",
        "lag_plot(rawdata['Open'], lag=3)\n",
        "plt.title('AMAZON Stock - Autocorrelation plot with lag = 3')\n",
        "plt.show()\n"
      ],
      "execution_count": 131,
      "outputs": [
        {
          "output_type": "display_data",
          "data": {
            "image/png": "[encoded data removed]",
            "text/plain": [
              "<Figure size 432x288 with 1 Axes>"
            ]
          },
          "metadata": {
            "tags": [],
            "needs_background": "light"
          }
        }
      ]
    },
    {
      "cell_type": "markdown",
      "metadata": {
        "id": "EwSt0cKkQUaC"
      },
      "source": [
        "We can now confirm that ARIMA is going to be a good model to be applied to this type of data (there is auto-correlation in the data).\n",
        "\n",
        "Finally, let’s plot the stock price evolution over time."
      ]
    },
    {
      "cell_type": "code",
      "metadata": {
        "colab": {
          "base_uri": "https://localhost:8080/",
          "height": 295
        },
        "id": "aEr8TbyUQfC1",
        "outputId": "2336fc6e-4227-47b3-b265-d1b2d97de03d"
      },
      "source": [
        "plt.plot(rawdata.index, rawdata['Close'], color='royalblue')\n",
        "plt.title('Daily close price')\n",
        "plt.xlabel('Day')\n",
        "plt.ylabel('Dollar')\n",
        "plt.show()"
      ],
      "execution_count": 136,
      "outputs": [
        {
          "output_type": "display_data",
          "data": {
            "image/png": "[encoded data removed]",
            "text/plain": [
              "<Figure size 432x288 with 1 Axes>"
            ]
          },
          "metadata": {
            "tags": [],
            "needs_background": "light"
          }
        }
      ]
    },
    {
      "cell_type": "markdown",
      "metadata": {
        "id": "Kym6xV2CSPj3"
      },
      "source": [
        "Build the predictive ARIMA model\n",
        "\n",
        "Next, let’s divide the data into a training (70 % ) and test (30%) set. For this tutorial we select the following ARIMA parameters: p=4, d=1 and q=0."
      ]
    },
    {
      "cell_type": "code",
      "metadata": {
        "colab": {
          "base_uri": "https://localhost:8080/"
        },
        "id": "L1ym98_hSPTy",
        "outputId": "15ba94bb-8f04-4ef1-8391-13a54bbcc87d"
      },
      "source": [
        "train_data, test_data = rawdata[0:int(len(rawdata)*0.6)], rawdata[int(len(rawdata)*0.6):]\n",
        "training_data = train_data['Close'].values\n",
        "test_data = test_data['Close'].values\n",
        "history = [x for x in training_data]\n",
        "model_predictions = []\n",
        "N_test_observations = len(test_data)\n",
        "for time_point in range(N_test_observations):\n",
        "    model = ARIMA(history, order=(4,1,0))\n",
        "    model_fit = model.fit(disp=0)\n",
        "    output = model_fit.forecast()\n",
        "    yhat = output[0]\n",
        "    model_predictions.append(yhat)\n",
        "    true_test_value = test_data[time_point]\n",
        "    history.append(true_test_value)\n",
        "MSE_error = mean_squared_error(test_data, model_predictions)\n",
        "print('Testing Mean Squared Error is {}'.format(MSE_error))"
      ],
      "execution_count": 140,
      "outputs": [
        {
          "output_type": "stream",
          "text": [
            "Testing Mean Squared Error is 1526.2599709816698\n"
          ],
          "name": "stdout"
        }
      ]
    },
    {
      "cell_type": "markdown",
      "metadata": {
        "id": "WG3NmZ6jTc2A"
      },
      "source": [
        "**Summary of the code**\n",
        "We split the training dataset into train and test sets and we use the train set to fit the model, and generate a prediction for each element on the test set.\n",
        "A rolling forecasting procedure is required given the dependence on observations in prior time steps for differencing and the AR model. To this end, we re-create the ARIMA model after each new observation is received.\n",
        "Finally, we manually keep track of all observations in a list called history that is seeded with the training data and to which new observations are appended at each iteration.\n",
        "**Testing Mean Squared Error is 1526.2599709816698**"
      ]
    },
    {
      "cell_type": "markdown",
      "metadata": {
        "id": "eoPAjSH2TkIx"
      },
      "source": [
        "The MSE of the test set is quite large denoting that the precise prediction is a hard problem. However, this is the average squared value across all the test set predictions. Let’s visualize the predictions to understand the performance of the model more."
      ]
    },
    {
      "cell_type": "code",
      "metadata": {
        "colab": {
          "base_uri": "https://localhost:8080/",
          "height": 295
        },
        "id": "YBDuUIzJTqWr",
        "outputId": "047709ba-1a4a-401d-b6aa-08b19388f601"
      },
      "source": [
        "test_set_range = rawdata[int(len(rawdata)*0.6):].index\n",
        "plt.plot(test_set_range, model_predictions, color='blue', marker='o', linestyle='dashed',label='Predicted Price')\n",
        "plt.plot(test_set_range, test_data, color='red', label='Actual Price')\n",
        "plt.title('Amazon Prices Prediction')\n",
        "plt.xlabel('Date')\n",
        "plt.ylabel('Prices')\n",
        "plt.legend()\n",
        "plt.show()"
      ],
      "execution_count": 143,
      "outputs": [
        {
          "output_type": "display_data",
          "data": {
            "image/png": "[encoded data removed]",
            "text/plain": [
              "<Figure size 432x288 with 1 Axes>"
            ]
          },
          "metadata": {
            "tags": [],
            "needs_background": "light"
          }
        }
      ]
    },
    {
      "cell_type": "markdown",
      "metadata": {
        "id": "MbEF51_EVqpX"
      },
      "source": [
        "ARIMA model performance on the test set\n",
        "\n",
        "Our ARIMA model results in appreciable results. This model offers a good prediction accuracy and to be relatively fast compared to other alternatives, in terms of training/fitting time and complexity."
      ]
    }
  ]
}
